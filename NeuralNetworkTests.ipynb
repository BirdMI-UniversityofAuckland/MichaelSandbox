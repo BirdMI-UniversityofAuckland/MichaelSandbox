{
 "metadata": {
  "name": "",
  "signature": "sha256:c8ff5ab41e8e92b1450dc06f713ddc24d17ab95f872d7f0486f24a48859fc147"
 },
 "nbformat": 3,
 "nbformat_minor": 0,
 "worksheets": [
  {
   "cells": [
    {
     "cell_type": "code",
     "collapsed": false,
     "input": [
      "\"\"\"\n",
      "This is a testing code, that has followed one of Pybrains tutorials for creating an OR gate.\n",
      "I have also altered its output so that is functions as both an OR and an AND gate.\n",
      "It is trained by looping 10,000 times. \n",
      "\"\"\"\n",
      "\n",
      "\n",
      "from pybrain.tools.shortcuts import buildNetwork # Quick build function for Nwork\n",
      "from pybrain.structure import TanhLayer # This is a hidden layer structure\n",
      "from pybrain.structure import SigmoidLayer # This is a hidden layer structure\n",
      "\n",
      "from pybrain.datasets import SupervisedDataSet #used for Dataset creation\n",
      "\n",
      "from pybrain.supervised.trainers import BackpropTrainer # This is one of the Trainers used on a Dataset."
     ],
     "language": "python",
     "metadata": {},
     "outputs": [],
     "prompt_number": 20
    },
    {
     "cell_type": "code",
     "collapsed": false,
     "input": [
      "# Creates a Network with 2 inputs, 3 hidden and single ouput\n",
      "# Each layer is a Module Object\n",
      "# This is a shortcut function, and each layer can be built and added separately using other functions...\n",
      "net = buildNetwork(2, 3, 2, bias = True, hiddenclass = TanhLayer)"
     ],
     "language": "python",
     "metadata": {},
     "outputs": [],
     "prompt_number": 21
    },
    {
     "cell_type": "code",
     "collapsed": false,
     "input": [
      "# Creating a dataset, basically a list of Inputs with Ideal Outputs.\n",
      "ds = SupervisedDataSet(2,2)\n",
      "\n",
      "ds.addSample((0,0),(0,0))\n",
      "ds.addSample((0,1),(1,0))\n",
      "ds.addSample((1,0),(1,0))\n",
      "ds.addSample((1,1),(0,1))"
     ],
     "language": "python",
     "metadata": {},
     "outputs": [],
     "prompt_number": 22
    },
    {
     "cell_type": "code",
     "collapsed": false,
     "input": [
      "# Train the network with a Dataset.\n",
      "# Create a trainer object with our network and our dataset\n",
      "trainer = BackpropTrainer(net,ds)"
     ],
     "language": "python",
     "metadata": {},
     "outputs": [],
     "prompt_number": 23
    },
    {
     "cell_type": "code",
     "collapsed": false,
     "input": [
      "# Initiates a single training session\n",
      "trainer.train()"
     ],
     "language": "python",
     "metadata": {},
     "outputs": [
      {
       "metadata": {},
       "output_type": "pyout",
       "prompt_number": 24,
       "text": [
        "1.268595962448448"
       ]
      }
     ],
     "prompt_number": 24
    },
    {
     "cell_type": "code",
     "collapsed": false,
     "input": [
      "# Untrained output\n",
      "net.activate([1,0])"
     ],
     "language": "python",
     "metadata": {},
     "outputs": [
      {
       "metadata": {},
       "output_type": "pyout",
       "prompt_number": 25,
       "text": [
        "array([-0.0562013,  2.4434964])"
       ]
      }
     ],
     "prompt_number": 25
    },
    {
     "cell_type": "code",
     "collapsed": false,
     "input": [
      "# This will train the network over 10000 trials.\n",
      "for a in range(10000):\n",
      "    trainer.train()\n",
      "    if a%500 == 0:\n",
      "        print a\n",
      "        \n",
      "print \"10000\""
     ],
     "language": "python",
     "metadata": {},
     "outputs": [
      {
       "output_type": "stream",
       "stream": "stdout",
       "text": [
        "0\n",
        "500"
       ]
      },
      {
       "output_type": "stream",
       "stream": "stdout",
       "text": [
        "\n",
        "1000"
       ]
      },
      {
       "output_type": "stream",
       "stream": "stdout",
       "text": [
        "\n",
        "1500"
       ]
      },
      {
       "output_type": "stream",
       "stream": "stdout",
       "text": [
        "\n",
        "2000"
       ]
      },
      {
       "output_type": "stream",
       "stream": "stdout",
       "text": [
        "\n",
        "2500"
       ]
      },
      {
       "output_type": "stream",
       "stream": "stdout",
       "text": [
        "\n",
        "3000"
       ]
      },
      {
       "output_type": "stream",
       "stream": "stdout",
       "text": [
        "\n",
        "3500"
       ]
      },
      {
       "output_type": "stream",
       "stream": "stdout",
       "text": [
        "\n",
        "4000"
       ]
      },
      {
       "output_type": "stream",
       "stream": "stdout",
       "text": [
        "\n",
        "4500"
       ]
      },
      {
       "output_type": "stream",
       "stream": "stdout",
       "text": [
        "\n",
        "5000"
       ]
      },
      {
       "output_type": "stream",
       "stream": "stdout",
       "text": [
        "\n",
        "5500"
       ]
      },
      {
       "output_type": "stream",
       "stream": "stdout",
       "text": [
        "\n",
        "6000"
       ]
      },
      {
       "output_type": "stream",
       "stream": "stdout",
       "text": [
        "\n",
        "6500"
       ]
      },
      {
       "output_type": "stream",
       "stream": "stdout",
       "text": [
        "\n",
        "7000"
       ]
      },
      {
       "output_type": "stream",
       "stream": "stdout",
       "text": [
        "\n",
        "7500"
       ]
      },
      {
       "output_type": "stream",
       "stream": "stdout",
       "text": [
        "\n",
        "8000"
       ]
      },
      {
       "output_type": "stream",
       "stream": "stdout",
       "text": [
        "\n",
        "8500"
       ]
      },
      {
       "output_type": "stream",
       "stream": "stdout",
       "text": [
        "\n",
        "9000"
       ]
      },
      {
       "output_type": "stream",
       "stream": "stdout",
       "text": [
        "\n",
        "9500"
       ]
      },
      {
       "output_type": "stream",
       "stream": "stdout",
       "text": [
        "\n",
        "10000"
       ]
      },
      {
       "output_type": "stream",
       "stream": "stdout",
       "text": [
        "\n"
       ]
      }
     ],
     "prompt_number": 28
    },
    {
     "cell_type": "code",
     "collapsed": false,
     "input": [
      "a = 1\n",
      "b = 0\n",
      "\n",
      "output = net.activate([a,b])\n",
      "\n",
      "print \"A is equal to \" + str(a)\n",
      "print \"B is equal to \" + str(b)\n",
      "\n",
      "print \"Output: is A || B == 1?: \" + str(abs(round(output[0])))\n",
      "print \"Output: is A && B == 1?: \" + str(abs(round(output[1])))"
     ],
     "language": "python",
     "metadata": {},
     "outputs": [
      {
       "output_type": "stream",
       "stream": "stdout",
       "text": [
        "A is equal to 1\n",
        "B is equal to 0\n",
        "Output: is A || B == 1?: 1.0\n",
        "Output: is A && B == 1?: 0.0\n"
       ]
      }
     ],
     "prompt_number": 29
    },
    {
     "cell_type": "code",
     "collapsed": false,
     "input": [],
     "language": "python",
     "metadata": {},
     "outputs": [],
     "prompt_number": 27
    },
    {
     "cell_type": "code",
     "collapsed": false,
     "input": [],
     "language": "python",
     "metadata": {},
     "outputs": [],
     "prompt_number": 27
    },
    {
     "cell_type": "code",
     "collapsed": false,
     "input": [],
     "language": "python",
     "metadata": {},
     "outputs": []
    }
   ],
   "metadata": {}
  }
 ]
}