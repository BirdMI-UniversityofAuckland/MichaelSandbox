{
 "metadata": {
  "name": "",
  "signature": "sha256:43a7171e96ce6eda25f45f8dc883c824860a3ce42391366e132803c4be566dfc"
 },
 "nbformat": 3,
 "nbformat_minor": 0,
 "worksheets": [
  {
   "cells": [
    {
     "cell_type": "markdown",
     "metadata": {},
     "source": [
      "**MicSpeakerCheck,**\n",
      "\n",
      "This program is designed to compare the transition of a digital sound with a sound that has been through a speaker, and recorded via a microphone. Multiple sounds will be tested, and different hardwares (speakers and microphones) will also be tested.\n",
      "\n",
      "**The program works as follows,**\n",
      "\n",
      "A selected sound is played through the speaker, and recorded simultaneously. The two raw traces of the two sounds are saved to wav files, where SAP-2011 is used to calculate characteristic sound features and exported to .xls files containing the raw features. These raw features are then loaded back so that the second half of the program can analyse: correlated to give a correlation coefficient.\n",
      "These coefficients can then be plotted to form a population distribution of trials, and are compared to the population distributions of 'similar' picked motifs from the song bird.\n",
      "These distributions can then be visualised using matplotlib.\n",
      "\n",
      "By analysising the overlap of the distributions between the birds own song, and the differences between the speakers, we should get a realistic idea if the playback from the speaker will be faithful enough at reproducing birds own song that it can be used in our BMI.\n",
      "\n",
      "Written by Michael Barnett\n",
      "Started 5th Aug 2015\n",
      "\n",
      "** Movement of external data: **\n",
      "\n",
      "The **working_directory** will consist of 3 folders, \n",
      "\n",
      "**1. WAV Library,**this contains all sounds we intend to test, eg Noise, Syllables, Motifs, pure tones, ascending tones.\n",
      "\n",
      "**2. PROCESSED library,**this contains saved versions of what numpy array was played through the speaker, and what was recorded via microphone for all the sound files from the WAV library\n",
      "\n",
      "**3. RAW library,**will contain the raw .xls files of all the wave library files.\n",
      "\n",
      "Finally, the working directory folder itself may contain the output , ie matlabplots, excel files etc.\n",
      "\n"
     ]
    },
    {
     "cell_type": "code",
     "collapsed": false,
     "input": [
      "## THIS IS A GREAT STARTING CELL TO RUN TO ENSURE THAT YOU ACTUALLY HAVE THE HARDWARE APPROPRIATELY CONNECTED.\n",
      "import pysoundcard\n",
      "print \"----------------------------------------------------------------\"\n",
      "print \"DEFAULT API: \" + str(pysoundcard.default_api())\n",
      "print \"----------------------------------------------------------------\"\n",
      "print \"DEFAULT OUTPUT DEVICE: \" + str(pysoundcard.default_output_device())\n",
      "print \"----------------------------------------------------------------\"\n",
      "print \"DEFAULT INPUT DEVICE: \" + str(pysoundcard.default_input_device())\n",
      "print \"----------------------------------------------------------------\"\n",
      "\n",
      "import sys\n",
      "sys.version"
     ],
     "language": "python",
     "metadata": {},
     "outputs": [
      {
       "output_type": "stream",
       "stream": "stdout",
       "text": [
        "----------------------------------------------------------------\n",
        "DEFAULT API: {'struct_version': 1, 'name': u'MME', 'api_idx': 0, 'type': 2L, 'default_output_device_index': 3, 'device_count': 4, 'default_input_device_index': 1}\n",
        "----------------------------------------------------------------\n",
        "DEFAULT OUTPUT DEVICE: {'struct_version': 2, 'input_channels': 0, 'default_high_output_latency': 0.18, 'default_low_output_latency': 0.09, 'default_sample_rate': 44100.0, 'output_latency': 0.09, 'name': u'Speakers (Realtek High Definiti', 'interleaved_data': True, 'default_high_input_latency': 0.18, 'device_index': 3, 'sample_format': <type 'numpy.float32'>, 'default_low_input_latency': 0.09, 'host_api_index': 0, 'input_latency': 0.09, 'output_channels': 2}\n",
        "----------------------------------------------------------------\n",
        "DEFAULT INPUT DEVICE: {'struct_version': 2, 'input_channels': 2, 'default_high_output_latency': 0.18, 'default_low_output_latency': 0.09, 'default_sample_rate': 44100.0, 'output_latency': 0.09, 'name': u'Microphone (Realtek High Defini', 'interleaved_data': True, 'default_high_input_latency': 0.18, 'device_index': 1, 'sample_format': <type 'numpy.float32'>, 'default_low_input_latency': 0.09, 'host_api_index': 0, 'input_latency': 0.09, 'output_channels': 0}\n",
        "----------------------------------------------------------------\n"
       ]
      },
      {
       "metadata": {},
       "output_type": "pyout",
       "prompt_number": 74,
       "text": [
        "'2.7.8 |Anaconda 2.1.0 (64-bit)| (default, Jul  2 2014, 15:12:11) [MSC v.1500 64 bit (AMD64)]'"
       ]
      }
     ],
     "prompt_number": 74
    },
    {
     "cell_type": "code",
     "collapsed": false,
     "input": [
      "## Major dependancies\n",
      "import numpy as np\n",
      "from pysoundcard import Stream\n",
      "import scipy.io.wavfile as wav\n",
      "from scipy import signal, fftpack # For comparisons\n",
      "import math\n",
      "import time\n",
      "import os\n",
      "import glob \n",
      "import matplotlib.pyplot as plt\n",
      "#Used for testing at the moment.\n",
      "%matplotlib inline \n",
      "\n",
      "## CHANGE THIS DEPENDING ON WHAT DIRECTORY YOU WISH TO WORK OUT OF, THIS CAN ALSO BE CHANGED BETWEEN TRIALS BETWEEN HARDWARES etc\"\n",
      "## Note that your working directory should contain 3 folders, RAW_LIB, PROCESSED_LIB, and WAV_LIB\n",
      "working_directory = \"c:\\\\Users\\\\mbar372\\\\Documents\\\\testing\\\\hardware_tests\\\\\"\n",
      "\n",
      "## Update the wav library depending on the working directory.\n",
      "update_wav_lib(working_directory)"
     ],
     "language": "python",
     "metadata": {},
     "outputs": [],
     "prompt_number": 327
    },
    {
     "cell_type": "code",
     "collapsed": false,
     "input": [
      "\n",
      "# Import wav library\n",
      "wav_data = import_wav_lib(working_directory)\n",
      "\n",
      "# Play wav library \n",
      "iterate_through_all(wav_data, fs = 44100, window = 64)\n",
      "\n",
      "\"\"\" We now go into SAP2011, and use the raw features across and\n",
      "interval feature to calculate the raw features of all song\n",
      "characteristics for each .wav file from the Process folder.\n",
      "The resulting .xml feature libraries are saved in RAW_LIB. Ready to extract.\n",
      "\"\"\"\n",
      "\n"
     ],
     "language": "python",
     "metadata": {},
     "outputs": [
      {
       "output_type": "stream",
       "stream": "stdout",
       "text": [
        " ---- ---- ---- ---- ---- ---- ---- ---- ---- ---- \n",
        "Playing sound, ascendingtone.wav. File 1/15\n",
        "This will take approximately 11 seconds... \n",
        " ---- ---- ---- ---- ---- ---- ---- ---- ---- ---- "
       ]
      },
      {
       "output_type": "stream",
       "stream": "stdout",
       "text": [
        "\n",
        "Playing sound, motif1.wav. File 2/15\n",
        "This will take approximately 1 seconds... \n",
        " ---- ---- ---- ---- ---- ---- ---- ---- ---- ---- "
       ]
      },
      {
       "output_type": "stream",
       "stream": "stdout",
       "text": [
        "\n",
        "Playing sound, motif2.wav. File 3/15\n",
        "This will take approximately 1 seconds... \n",
        " ---- ---- ---- ---- ---- ---- ---- ---- ---- ---- "
       ]
      },
      {
       "output_type": "stream",
       "stream": "stdout",
       "text": [
        "\n",
        "Playing sound, motif3.wav. File 4/15\n",
        "This will take approximately 1 seconds... \n",
        " ---- ---- ---- ---- ---- ---- ---- ---- ---- ---- "
       ]
      },
      {
       "output_type": "stream",
       "stream": "stdout",
       "text": [
        "\n",
        "Playing sound, motif4.wav. File 5/15\n",
        "This will take approximately 1 seconds... \n",
        " ---- ---- ---- ---- ---- ---- ---- ---- ---- ---- "
       ]
      },
      {
       "output_type": "stream",
       "stream": "stdout",
       "text": [
        "\n",
        "Playing sound, motif5.wav. File 6/15\n",
        "This will take approximately 1 seconds... \n",
        " ---- ---- ---- ---- ---- ---- ---- ---- ---- ---- "
       ]
      },
      {
       "output_type": "stream",
       "stream": "stdout",
       "text": [
        "\n",
        "Playing sound, motif6.wav. File 7/15\n",
        "This will take approximately 1 seconds... \n",
        " ---- ---- ---- ---- ---- ---- ---- ---- ---- ---- "
       ]
      },
      {
       "output_type": "stream",
       "stream": "stdout",
       "text": [
        "\n",
        "Playing sound, motif7.wav. File 8/15\n",
        "This will take approximately 1 seconds... \n",
        " ---- ---- ---- ---- ---- ---- ---- ---- ---- ---- "
       ]
      },
      {
       "output_type": "stream",
       "stream": "stdout",
       "text": [
        "\n",
        "Playing sound, noise.wav. File 9/15\n",
        "This will take approximately 6 seconds... \n",
        " ---- ---- ---- ---- ---- ---- ---- ---- ---- ---- "
       ]
      },
      {
       "output_type": "stream",
       "stream": "stdout",
       "text": [
        "\n",
        "Playing sound, puretone.wav. File 10/15\n",
        "This will take approximately 11 seconds... \n",
        " ---- ---- ---- ---- ---- ---- ---- ---- ---- ---- "
       ]
      },
      {
       "output_type": "stream",
       "stream": "stdout",
       "text": [
        "\n",
        "Playing sound, songbout.wav. File 11/15\n",
        "This will take approximately 12 seconds... \n",
        " ---- ---- ---- ---- ---- ---- ---- ---- ---- ---- "
       ]
      },
      {
       "output_type": "stream",
       "stream": "stdout",
       "text": [
        "\n",
        "Playing sound, songbout_noisex01.wav. File 12/15\n",
        "This will take approximately 12 seconds... \n",
        " ---- ---- ---- ---- ---- ---- ---- ---- ---- ---- "
       ]
      },
      {
       "output_type": "stream",
       "stream": "stdout",
       "text": [
        "\n",
        "Playing sound, songbout_noisex02.wav. File 13/15\n",
        "This will take approximately 12 seconds... \n",
        " ---- ---- ---- ---- ---- ---- ---- ---- ---- ---- "
       ]
      },
      {
       "output_type": "stream",
       "stream": "stdout",
       "text": [
        "\n",
        "Playing sound, songbout_noisex10.wav. File 14/15\n",
        "This will take approximately 12 seconds... \n",
        " ---- ---- ---- ---- ---- ---- ---- ---- ---- ---- "
       ]
      },
      {
       "output_type": "stream",
       "stream": "stdout",
       "text": [
        "\n",
        "Playing sound, songbout_noisex20.wav. File 15/15\n",
        "This will take approximately 12 seconds... \n",
        "---- ---- ---- ---- --Done-- ---- ---- ---- ---- "
       ]
      },
      {
       "output_type": "stream",
       "stream": "stdout",
       "text": [
        "\n"
       ]
      },
      {
       "metadata": {},
       "output_type": "pyout",
       "prompt_number": 328,
       "text": [
        "' We now go into SAP2011, and use the raw features across and\\ninterval feature to calculate the raw features of all song\\ncharacteristics for each .wav file from the Process folder.\\nThe resulting .xml feature libraries are saved in RAW_LIB. Ready to extract.\\n'"
       ]
      }
     ],
     "prompt_number": 328
    },
    {
     "cell_type": "code",
     "collapsed": false,
     "input": [
      "# Extract features from saved SAP2011 Files.\n",
      "raw_feature_data, raw_recorded_feature_data = import_raw_lib(working_directory)\n",
      "\n",
      "\n"
     ],
     "language": "python",
     "metadata": {},
     "outputs": [],
     "prompt_number": 329
    },
    {
     "cell_type": "code",
     "collapsed": false,
     "input": [
      "print raw_feature_data[0][1].keys()\n",
      "print raw_feature_data[0][0]\n",
      "plt.plot(raw_feature_data[0][1]['Time'], lw = 1, c = 'b')\n",
      "\n",
      "print raw_recorded_feature_data[0][0]\n",
      "plt.plot(raw_recorded_feature_data[0][1]['Time'], lw = 1, c = 'r')\n",
      "plt.show()\n"
     ],
     "language": "python",
     "metadata": {},
     "outputs": [
      {
       "output_type": "stream",
       "stream": "stdout",
       "text": [
        "['Goodness_of_pitch', 'Wiener_entropy', 'Amplitude', 'Time', 'Peak_frequency', 'Mean_frequency', 'Pitch', 'AM', 'FM']\n",
        "rf_songbout_play.xml\n",
        "rf_songbout_rec.xml\n"
       ]
      },
      {
       "metadata": {},
       "output_type": "display_data",
       "png": "[encoded data removed]",
       "text": [
        "<matplotlib.figure.Figure at 0x6b12c9e8>"
       ]
      }
     ],
     "prompt_number": 404
    },
    {
     "cell_type": "markdown",
     "metadata": {},
     "source": [
      "I suspect that correlating by the timing infomation ( which I believe is origined at the start of the wav file) might be the most accurate way to get precise alignments. See Below"
     ]
    },
    {
     "cell_type": "code",
     "collapsed": false,
     "input": [
      "\"\"\"Testing some output stuff, uses amplitude to set the offset amount,\n",
      "some of the more highly variable traces like AM and FM especially were difficult\n",
      "to ensure the correct offset was applied, whereas using amplitude to calculate\n",
      "the offset is much more robust - the offset for this dataset was 141 samples.\n",
      "Goodness of pitch, & peak frequency,& Mean_frequency,  came to the same offset conclusion too.\n",
      "\n",
      "NOTE timing showed acorrelation of 134, as these are linearly ascending values\n",
      "it is highly likely these could be used as the most robust way to align the data.\n",
      "\"\"\"\n",
      "\n",
      "test = 'Time'\n",
      "array_play, array_rec, alignment = create_comparison_arrays(raw_feature_data[0][1][test],raw_recorded_feature_data[0][1][test], draw = \"yes\", force_align = 0)\n",
      "\n",
      "a = int(np.corrcoef(array_play,array_rec)[0,1]*1000)/10.0\n",
      "print str(a) + '% with a alignment of ' + str(alignment) + ' samples.'\n",
      "\n",
      "\n"
     ],
     "language": "python",
     "metadata": {},
     "outputs": [
      {
       "metadata": {},
       "output_type": "display_data",
       "png": "[encoded data removed]",
       "text": [
        "<matplotlib.figure.Figure at 0x17bf6e48>"
       ]
      },
      {
       "output_type": "stream",
       "stream": "stdout",
       "text": [
        "99.9% with a alignment of 134 samples.\n"
       ]
      }
     ],
     "prompt_number": 403
    },
    {
     "cell_type": "code",
     "collapsed": false,
     "input": [
      "\"\"\"\n",
      "THIS CELL IS A TEST CELL. IGNORE\n",
      "\n",
      "\"\"\"\n",
      "\n",
      "#Just grabs a .wav song file I have on hand. NOTE: From Priscilla's Data, Was recorded with a gain of 30.\n",
      "fs , wav_data_raw = wav.read(\"c:\\\\Users\\\\mbar372\\\\Documents\\\\testing\\\\test.wav\")\n",
      "\n",
      "# Angus wrote this in a previous example, It Normalises the sound, When taken away the sound breaches the ability of the speaker,\n",
      "# And we get clippin issues. This would be due to the PySoundCard expecting Normalised input. \n",
      "# Seems to also convert from PCM to dtype float32, need to undo this!!!\n",
      "\n",
      "#wav_data = np.array(wav_data_raw, dtype=np.float32) # Convert array to ensure it is 32int bit type,\n",
      "#wav_data /= 2**15 # normalize -max_int16..max_int16 to -1..1\n",
      "\n",
      "wav_data = pcm2float(wav_data_raw, dtype ='float32')\n",
      "\n",
      "# Plot the data we are about to play\n",
      "plt.plot(wav_data)\n",
      "print \"Number of samples to play: \" + str(np.shape(wav_data))\n",
      "plt.show()\n",
      "\n",
      "print \"Start time:\"\n",
      "# Play the data, and record it too, return the recorded data\n",
      "new_data = pass_through_hardware(wav_data, window = 64) \n",
      "print \"Finished playback!\"\n",
      "# Plot the recorded data, to see what it looks like.\n",
      "print \"Number of samples recorded: \" + str(np.shape(new_data))\n",
      "plt.plot(new_data)\n",
      "plt.show()\n",
      "\n",
      "new_data = float2pcm(new_data, dtype ='int16')\n",
      "plt.plot(new_data)\n",
      "plt.show()\n",
      "wav.write(\"c:\\\\Users\\\\mbar372\\\\Documents\\\\testing\\\\savetest.wav\", 44100, new_data)"
     ],
     "language": "python",
     "metadata": {},
     "outputs": [
      {
       "output_type": "stream",
       "stream": "stdout",
       "text": [
        "Number of samples to play: (546560L,)\n"
       ]
      },
      {
       "metadata": {},
       "output_type": "display_data",
       "png": "[encoded data removed]",
       "text": [
        "<matplotlib.figure.Figure at 0x127f21d0>"
       ]
      },
      {
       "output_type": "stream",
       "stream": "stdout",
       "text": [
        "Start time:\n",
        "Finished playback!"
       ]
      },
      {
       "output_type": "stream",
       "stream": "stdout",
       "text": [
        "\n",
        "Number of samples recorded: (568611L,)\n"
       ]
      },
      {
       "metadata": {},
       "output_type": "display_data",
       "png": "[encoded data removed]",
       "text": [
        "<matplotlib.figure.Figure at 0x13223390>"
       ]
      },
      {
       "metadata": {},
       "output_type": "display_data",
       "png": "[encoded data removed]",
       "text": [
        "<matplotlib.figure.Figure at 0x139acbe0>"
       ]
      }
     ],
     "prompt_number": 67
    },
    {
     "cell_type": "code",
     "collapsed": false,
     "input": [],
     "language": "python",
     "metadata": {},
     "outputs": [],
     "prompt_number": 224
    },
    {
     "cell_type": "code",
     "collapsed": false,
     "input": [],
     "language": "python",
     "metadata": {},
     "outputs": [],
     "prompt_number": 199
    },
    {
     "cell_type": "code",
     "collapsed": false,
     "input": [],
     "language": "python",
     "metadata": {},
     "outputs": [],
     "prompt_number": 199
    },
    {
     "cell_type": "heading",
     "level": 1,
     "metadata": {},
     "source": [
      "METHODS/DEFINITIONS BEYOND THIS POINT (Ensure to initialise them all)"
     ]
    },
    {
     "cell_type": "code",
     "collapsed": false,
     "input": [
      "def iterate_through_all(wav_lib_array, window = 1024, fs = 44100):\n",
      "    \n",
      "    \"\"\"\n",
      "    This function takes the .wav data loaded from the WAV_LIB folder, and then iterates through each file,\n",
      "    playing and recording new versions of the sounds. These soudns are saved into another folder, PROCESSED_LIB.\n",
      "    \n",
      "    The sound that was just played is also saved, so that both the new files are comparable and created under the same conditions.\n",
      "    \"\"\"\n",
      "    \n",
      "    # Start on the first wav file, calculate the number of iterations\n",
      "    i = 0 \n",
      "    file_count = len(wav_data[:])\n",
      "    \n",
      "    # Iterate through each file...\n",
      "    for i in range(file_count):\n",
      "        name = wav_data[i][0] # The name of the file\n",
      "        data = wav_data[i][1] # The raw data of the file\n",
      "        \n",
      "        # Here we convert the wav files in FLOAT32 ranged from -1 to 1 for playback\n",
      "        data = pcm2float(data, dtype='float32')\n",
      "        print \" ---- ---- ---- ---- ---- ---- ---- ---- ---- ---- \"\n",
      "        print \"Playing sound, \" + name + \". File \" + str(i+1) + \"/\" + str(file_count)\n",
      "        iterate_length = (len(data)/fs) + 1\n",
      "        print \"This will take approximately \" + str(iterate_length) + \" seconds... \"\n",
      "        \n",
      "        \n",
      "        new_data = pass_through_hardware(data, fs, window) #Play the sound + record it back.\n",
      "        \n",
      "        time.sleep(1) # Sleep for 1 second, intended to prevent anti-aliasing-like effects on recordings.\n",
      "        \n",
      "        # Here we convert BOTH the recorded and played data back to PCM and save them.\n",
      "        # This way we keep our comparisons consistent in data-type, and they can be read by SAP 2011.\n",
      "        data = float2pcm(data, dtype = 'int16')\n",
      "        new_data = float2pcm(new_data, dtype = 'int16')\n",
      "        \n",
      "        # Write both the played file AND the recorded files, directly into the PROCESSED folder\n",
      "        wav.write(working_directory + 'PROCESSED_LIB\\\\'+name, fs, data)\n",
      "        wav.write(working_directory + 'PROCESSED_LIB\\\\recording_'+name, fs, new_data)\n",
      "        \n",
      "    print \"---- ---- ---- ---- -- Done -- ---- ---- ---- ---- \""
     ],
     "language": "python",
     "metadata": {},
     "outputs": [],
     "prompt_number": 405
    },
    {
     "cell_type": "code",
     "collapsed": false,
     "input": [
      "def import_wav_lib(directory): # input is the working directory where 'rawsong' folder is kept\n",
      "    \"\"\" This function returns the normalised amplitude data of all songs in a directory, \n",
      "    It also creates another array containing just the names of the files\n",
      "    \"\"\"\n",
      "    directory = directory + \"WAV_LIB\\\\\"\n",
      "    \n",
      "    ## This is an array of directories to the song files to be tested.\n",
      "    raw_song_dir_array  = glob.glob(directory + '*.wav')\n",
      "    ## This cycles through every wav file in the array and assigns its 'data' ( [1] is used to return amplitude data only) to song_array\n",
      "    song_array = [wav.read(n)[1] for n in raw_song_dir_array]\n",
      "        \n",
      "    raw_song_filename_array = os.listdir(directory) #The name of the files  \n",
      "    \n",
      "    # We now restructure the two arrays into one dictionary-like array for easy use.\n",
      "    new_array = (zip(raw_song_filename_array,song_array))\n",
      "    \n",
      "    return new_array\n"
     ],
     "language": "python",
     "metadata": {},
     "outputs": [],
     "prompt_number": 406
    },
    {
     "cell_type": "code",
     "collapsed": false,
     "input": [
      "def import_raw_lib(directory): # input is the working directory where 'rawsong' folder is kept\n",
      "    \"\"\" \n",
      "    This function takes the output from SAP2011, \n",
      "    This output is expected to have two qualities,\n",
      "    A raw feature .xml file comes in the pair , name_play.xml and name_rec.xml\n",
      "    All pairs have to exist, else the resulting arrays wont be aligned in pairs.\n",
      "    \n",
      "    I may make another method to double check the names match at the start of these\n",
      "    two outputs, just to ensure that this mismatching pair problem, which\n",
      "    could occur to human error, doesn't get lost in the code. \n",
      "    \n",
      "    \"\"\"\n",
      "    directory = directory + \"RAW_LIB\\\\\"\n",
      "    \n",
      "    ## This is an array of directories to the song files to be tested.\n",
      "    raw_feature_dir_array_play  = glob.glob(directory + '*_play.xml')\n",
      "    raw_feature_dir_array_rec  = glob.glob(directory + '*_rec.xml')\n",
      "    \n",
      "    ## This cycles through every raw file in the above array, and extracts its features.\n",
      "    feature_array_play = [extract_raw_features(n) for n in raw_feature_dir_array_play]\n",
      "    feature_array_rec = [extract_raw_features(n) for n in raw_feature_dir_array_rec]\n",
      "    \n",
      "    # Listdir doesn't allow use of wildcards,  so becuase we are splitting this folder into _play and _rec files, \n",
      "    # and I'm too lazy to make two folders, we're gonna do this instead to get the names of the files only using \n",
      "    # Glob.glob from earlier.: \n",
      "    feature_filename_array_play= [n.rsplit('\\\\')[-1] for n in raw_feature_dir_array_play]\n",
      "    feature_filename_array_rec= [n.rsplit('\\\\')[-1] for n in raw_feature_dir_array_rec]\n",
      "    \n",
      "    # We now restructure the two arrays into one dictionary-like array for easy use.\n",
      "    new_array_play = (zip(feature_filename_array_play,feature_array_play))\n",
      "    new_array_rec = (zip(feature_filename_array_rec,feature_array_rec))\n",
      "    \n",
      "    return new_array_play, new_array_rec"
     ],
     "language": "python",
     "metadata": {},
     "outputs": [],
     "prompt_number": 407
    },
    {
     "cell_type": "code",
     "collapsed": false,
     "input": [
      "def update_wav_lib(working_directory):\n",
      "    \n",
      "    \"\"\" \n",
      "    This method simply creates some of the sounds necessary for our analysis and saves them into the WAV_LIB folder for\n",
      "    later use. It will not create examples of Song, These will need to be added to the WAV_LIB folder at the users descretion\n",
      "    if they are to be used by the program for playback.\n",
      "    \n",
      "    This Only needs to be run a single time to create the appropraite .wav files. \n",
      "    Can be re-run if there is a problem with these / they need updating\n",
      "    \n",
      "    NOTE. ALL the files are saved as PCM.\n",
      "    \n",
      "    \"\"\"\n",
      "\n",
      "    fs = 44100\n",
      "    # Creates a pure tone\n",
      "    t = np.r_[0:int(fs*10):1] / float(fs)\n",
      "    fn = 0.261e3 #middle C\n",
      "    puretone = np.sin(2 * np.pi * t * fn)\n",
      "    # Converts to PCM\n",
      "    puretone = float2pcm(puretone, dtype ='int16')\n",
      "    # Writes to wav file.\n",
      "    wav.write(working_directory + 'WAV_LIB\\\\puretone.wav',fs, puretone)\n",
      "\n",
      "    # Creates ascending tone\n",
      "    t = np.r_[0:int(fs*10):1] / float(fs)\n",
      "    fn = 10\n",
      "    ascendingtone = np.sin(2 * np.pi * t * fn * (t*100.0))/10\n",
      "    ascendingtone = float2pcm(ascendingtone, dtype ='int16')\n",
      "    wav.write(working_directory + 'WAV_LIB\\\\ascendingtone.wav',fs, ascendingtone)\n",
      "\n",
      "    # Creates Noise (5 seconds)\n",
      "    # values of 0.005 - 0.0005 are typically good values, the higher this value , the more noise.\n",
      "    noise = np.random.normal(0,0.05,fs * 5)/10\n",
      "    noise = float2pcm(noise, dtype ='int16')\n",
      "    wav.write(working_directory + 'WAV_LIB\\\\noise.wav',fs, noise)\n",
      "\n",
      "    # Take the fullbout of song, and add noise, save into Wav files.\n",
      "    fs , wav_data_raw = wav.read(working_directory + 'WAV_LIB\\\\songbout.wav')\n",
      "    wav_data = np.array(wav_data_raw, dtype=np.float32)\n",
      "    wav_data /= 2**15\n",
      "    \n",
      "    noise = np.random.normal(0,0.0005,len(wav_data))\n",
      "    noise_x2 = np.random.normal(0,0.001,len(wav_data))\n",
      "    noise_x10 = np.random.normal(0,0.005,len(wav_data))\n",
      "    noise_x20 = np.random.normal(0,0.01,len(wav_data))\n",
      "\n",
      "    wav_data = wav_data + noise\n",
      "    wav_data_x2 = wav_data + noise_x2\n",
      "    wav_data_x10 = wav_data + noise_x10\n",
      "    wav_data_x20 = wav_data + noise_x20\n",
      "    \n",
      "    \n",
      "    wav_data = float2pcm(wav_data, dtype ='int16')\n",
      "    wav_data_x2 = float2pcm(wav_data_x2, dtype ='int16')\n",
      "    wav_data_x10 = float2pcm(wav_data_x10, dtype ='int16')\n",
      "    wav_data_x20 = float2pcm(wav_data_x20, dtype ='int16')\n",
      "\n",
      "    wav.write(working_directory + 'WAV_LIB\\\\songbout_noisex01.wav',fs, wav_data)\n",
      "    wav.write(working_directory + 'WAV_LIB\\\\songbout_noisex02.wav',fs, wav_data_x2)\n",
      "    wav.write(working_directory + 'WAV_LIB\\\\songbout_noisex10.wav',fs, wav_data_x10)\n",
      "    wav.write(working_directory + 'WAV_LIB\\\\songbout_noisex20.wav',fs, wav_data_x20)\n"
     ],
     "language": "python",
     "metadata": {},
     "outputs": [],
     "prompt_number": 408
    },
    {
     "cell_type": "code",
     "collapsed": false,
     "input": [
      "def pass_through_hardware(sound, fs = 44100, window = 1024):\n",
      "    \"\"\"\n",
      "    This definition is designed to take the sound (formated as a single dimensional numpy array) as \n",
      "    a first argument, and play it through the default audio device,\n",
      "    while simultaneously recording from the default recording device. \n",
      "\n",
      "    The second argument is the sample rate of the sound, defaults to 44100 Hz\n",
      "    \n",
      "    This returns the raw trace of the output/input recording.\n",
      "    \n",
      "    window defaults to 1024, to reduce the lag in playback, this should be shorter, such as 32.\n",
      "    Playback can handle a windowsize of 1\n",
      "    Recording prefers at least a windowsize of 16\n",
      "    \"\"\"\n",
      "    block_length = window # The size of the sound blocks to be passed to the audio streamer\n",
      "    output_wav = np.array(1) #Create an empty number array, this will be appended to with the microphone inputs\n",
      "\n",
      "    # Create the stream instance (An object representing the sound card), and start it.\n",
      "    s = Stream(sample_rate=fs, block_length=block_length)\n",
      "    s.start()\n",
      "\n",
      "    #Iterate over the length of the sound to be played with the block size,\n",
      "    for i in range(len(sound)/block_length):\n",
      "        # Note the read() and write() functions do not return until the full acquisition or playback is complete\n",
      "        # This may have led to an issue of recording happening in moments of silence where the playback is complete.\n",
      "        # This is the likely reason as to why the recordings are slightly offset to the playbacks. Interestingly,\n",
      "        # The recordings are AHEAD of the playback.. caputuring extra information before playback had started,\n",
      "        # Additionally , the recording is slightly shorter in total, indicating the possibility of cutting off\n",
      "        # and not capturing the final moments of the playback. It is likely I will need to incorpate extra lengths of\n",
      "        # Recording to ensure that the entire playback is captured everytime, with overlap.\n",
      "        # NOTE, by decreasing the window, we see this effect diminish, which is expected.\n",
      "        # It is possible this effect is due to the time taken to 'play' the sound, seeming as recording \n",
      "        # appears to start before the actual playback. Thus the larger the window of data sent to the\n",
      "        # Stream (soundcard) the longer it will take to process and play.\n",
      "                \n",
      "        # PLAYBACK the next block of sound\n",
      "        block_to_write = sound[i*block_length:i*block_length+block_length]\n",
      "        s.write(block_to_write)\n",
      "        \n",
      "        # RECORD the next block of sound. Append to new Numpy array.\n",
      "        new_block = s.read(block_length)[:,0]\n",
      "        output_wav = np.append(output_wav, new_block)\n",
      "\n",
      "        \n",
      "        # Prints the time every ~ second , changing block length will cause issues with this due to dtypes.\n",
      "        # Only included at this time to show progress.\n",
      "        #if (i%(fs/block_length) == 0):\n",
      "        #    print (i*1.00/fs)*block_length \n",
      "    \n",
      "    # Record the next 0.5s of sound (This is handy for addressing the possible undershoot recording problem discussed above)\n",
      "    new_block = s.read(22050)[:,0]\n",
      "    output_wav = np.append(output_wav, new_block)\n",
      "    \n",
      "    #Stop the stream\n",
      "    s.stop()\n",
      "    \n",
      "    # Return the microphones experiences during sound playback.\n",
      "    return output_wav"
     ],
     "language": "python",
     "metadata": {},
     "outputs": [],
     "prompt_number": 409
    },
    {
     "cell_type": "code",
     "collapsed": false,
     "input": [
      "def quick_play(sound, fs = 44100):\n",
      "    \"\"\"\n",
      "    Helper routine during testing to quickly play a numpy array of data to listen to it.\n",
      "    \"\"\"\n",
      "    block_length = 32 # The size of the sound blocks to be passed to the audio streamer\n",
      "    s = Stream(sample_rate=fs, block_length=block_length)\n",
      "    s.start()\n",
      "\n",
      "    #Iterate over the length of the sound to be played with the block size,\n",
      "    for i in range(len(sound)/block_length):\n",
      "        # Play the next block of sound\n",
      "        s.write(sound[i*block_length:i*block_length+block_length])\n",
      "        # Record the next block of sound.\n",
      "        # Prints the time every ~ second , changing block length will cause issues with this due to dtypes.\n",
      "        # Only included at this time to show progress.\n",
      "        if (i%(fs/block_length) == 0):\n",
      "            print (i*1.00/fs)*block_length \n",
      "    \n",
      "    #Stop the stream\n",
      "    s.stop()\n"
     ],
     "language": "python",
     "metadata": {},
     "outputs": [],
     "prompt_number": 410
    },
    {
     "cell_type": "code",
     "collapsed": false,
     "input": [
      "def extract_raw_features(input_file):\n",
      "    \n",
      "    \"\"\"\n",
      "    This method accepts the directory to a .xml file generated by SAP-2011 that contains the raw features\n",
      "    of the selected sound from the program. It Extracts the meaningful song feature information from \n",
      "    that file, and returns it as a neat dictionary, filled with vectors over time of each song feature,\n",
      "    all appropraitely labelled.\n",
      "    \n",
      "    Note this has been specialised for SAP-2011 .xml files generated in this way. Hence some Hard coding.\n",
      "    \n",
      "    Another option would be to make raw_feature_tables using the batching algirithms within SAP 2011.\n",
      "    These however only carry integer values according to alex, and also I would have to segregate out the \n",
      "    wav files within the table, thus I will manually create the raw data using SAP for every wav file.\n",
      "    \"\"\"\n",
      "\n",
      "    import xml.etree.ElementTree as ET\n",
      "    tree = ET.parse(input_file)\n",
      "    root = tree.getroot()\n",
      "\n",
      "    array_of_all_features = []    \n",
      "    headings_array=[-1] # headings array is added by 1, on purpose. First value is not used.\n",
      "    \n",
      "    # Create an array size to iterate over for each heading. \n",
      "    # Headings are as follows: (from 0 to 13) 'Time', 'Amplitude', 'Pitch',\n",
      "    # 'Mean_frequency', 'Peak_frequency', 'Goodness_of_pitch', 'FM', 'AM', 'Wiener_entropy',\n",
      "    # NOTE: Headings past wiener entropy are disused, and have nul values.\n",
      "    # 'Continuity_time', 'Continuity_freq', 'Duration_of_state', 'currStartLocation'\n",
      "    \n",
      "    for cells in root.iter('colname'):\n",
      "        headings_array.append(int(cells.attrib['ix']))\n",
      "\n",
      "    for i in headings_array:\n",
      "        new_feature_vector = []\n",
      "        for cells in root.iter('cell'):\n",
      "            if headings_array[int(cells.attrib['ix'])] == i:\n",
      "                new_feature_vector.append(float(cells.text))\n",
      "    \n",
      "        array_of_all_features.append(new_feature_vector)\n",
      "\n",
      "    new_dict = {'Time' : array_of_all_features[1],\n",
      "                'Amplitude' : array_of_all_features[2] ,\n",
      "                'Pitch' : array_of_all_features[3] ,\n",
      "                'Mean_frequency' : array_of_all_features[4],  \n",
      "                'Peak_frequency' : array_of_all_features[5],\n",
      "                'Goodness_of_pitch' : array_of_all_features[6],\n",
      "                # x10 to correct decoded units into originals: 0 - 90 degrees \n",
      "                'FM' : array_of_all_features[7] * 10 ,\n",
      "                # x100 to correct into decoded units into originals: 1/t \n",
      "                'AM' : array_of_all_features[8]*100,\n",
      "                # x100 to correct into decoded scale into original scale\n",
      "                'Wiener_entropy' : array_of_all_features[9]*100}\n",
      "    \n",
      "    return new_dict"
     ],
     "language": "python",
     "metadata": {},
     "outputs": [],
     "prompt_number": 411
    },
    {
     "cell_type": "code",
     "collapsed": false,
     "input": [
      "\"\"\"\n",
      "We've got this from audio processing github repo, handy for making conversions between datatypes.\n",
      "\n",
      "https://github.com/mgeier/python-audio/blob/master/audio-files/utility.py\n",
      "\n",
      "\"\"\"\n",
      "\n",
      "import numpy as np\n",
      "import contextlib\n",
      "\n",
      "def float2pcm(sig, dtype='int16'):\n",
      "    \"\"\"Convert floating point signal with a range from -1 to 1 to PCM.\n",
      "    Parameters\n",
      "    ----------\n",
      "    sig : array_like\n",
      "        Input array, must have floating point type.\n",
      "    dtype : data type, optional\n",
      "        Desired (integer) data type.\n",
      "    Returns\n",
      "    -------\n",
      "    ndarray\n",
      "        integer data.\n",
      "    See Also\n",
      "    --------\n",
      "    pcm2float, dtype\n",
      "    \"\"\"\n",
      "    # TODO: allow unsigned (e.g. 8-bit) data\n",
      "\n",
      "    sig = np.asarray(sig)\n",
      "    if sig.dtype.kind != 'f':\n",
      "        raise TypeError(\"'sig' must be a float array\")\n",
      "    dtype = np.dtype(dtype)\n",
      "    if dtype.kind != 'i':\n",
      "        raise TypeError(\"'dtype' must be signed integer type\")\n",
      "\n",
      "    return (sig * np.iinfo(dtype).max).astype(dtype)\n",
      "\n",
      "def pcm2float(sig, dtype='float64'):\n",
      "    \"\"\"Convert PCM signal to floating point with a range from -1 to 1.\n",
      "    Use dtype='float32' for single precision.\n",
      "    Parameters\n",
      "    ----------\n",
      "    sig : array_like\n",
      "        Input array, must have (signed) integral type.\n",
      "    dtype : data type, optional\n",
      "        Desired (floating point) data type.\n",
      "    Returns\n",
      "    -------\n",
      "    ndarray\n",
      "        normalized floating point data.\n",
      "    See Also\n",
      "    --------\n",
      "    float2pcm, dtype\n",
      "    \"\"\"\n",
      "    # TODO: allow unsigned (e.g. 8-bit) data\n",
      "\n",
      "    sig = np.asarray(sig)\n",
      "    if sig.dtype.kind != 'i':\n",
      "        raise TypeError(\"'sig' must be an array of signed integers\")\n",
      "    dtype = np.dtype(dtype)\n",
      "    if dtype.kind != 'f':\n",
      "        raise TypeError(\"'dtype' must be floating point type\")\n",
      "\n",
      "    # Note that 'min' has a greater (by 1) absolute value than 'max'!\n",
      "    # Therefore, we use '-min' here to avoid clipping.\n",
      "    return sig.astype(dtype) / dtype.type(-np.iinfo(sig.dtype).min)"
     ],
     "language": "python",
     "metadata": {},
     "outputs": [],
     "prompt_number": 412
    },
    {
     "cell_type": "code",
     "collapsed": false,
     "input": [
      "def create_comparison_arrays(array1,array2, draw = \"no\", force_align = 0):\n",
      "    \"\"\"The purpose of this function is to take two arrays, padd them to the same size, \n",
      "    find the point of highest similarity using conjugates in the Fourier plane, \n",
      "    and then offset these padded arrays by an amount to create two comparable datasets at a point of highest similarity.\n",
      "    \n",
      "    Additionally the user can pass force_align with a sample value, to manually assign an alignment.\n",
      "    \"\"\"    \n",
      "    #sizes and calculate the padding value\n",
      "    size1 = len(array1)\n",
      "    size2 = len(array2)\n",
      "    \n",
      "    #store original sizes of real data for future use after padding occurs.\n",
      "    orig_size1 = size1\n",
      "    orig_size2 = size2\n",
      "        \n",
      "    # Calculate padding necesarry to make size1.len = size2.len\n",
      "    padding_value = abs( size1 - size2 )\n",
      "   \n",
      "    #pad the smallest array's end to be the same size as the larger.\n",
      "    #print \"Padding by difference between sizes: \" + str(padding_value)\n",
      "    if size1<size2:\n",
      "        array1 = np.pad(array1, (0,padding_value), mode = 'constant', constant_values = 0)\n",
      "    if size2<size1:\n",
      "        array2 = np.pad(array2, (0,padding_value), mode = 'constant', constant_values = 0)\n",
      "\n",
      "    # To check lengths are the same still, and update to new values.\n",
      "    size1 = len(array1)\n",
      "    size2 = len(array2)\n",
      "    if size1 != size2:\n",
      "        #print \"Difference between shapes is, \" + str(size1) + \" and \" + str(size2) + \".\" \n",
      "        print \"Error, the two arrays failed to pad properly.\"\n",
      "    \n",
      "    ## Here we check, have we been provided with alignment? If no, then calculate one...\n",
      "    if force_align == 0 : \n",
      "        ## Calculate a new offset using FFT\n",
      "        A = fftpack.fft(array1)\n",
      "        B = fftpack.fft(array2)\n",
      "        Ar = -A.conjugate()\n",
      "        Br = -B.conjugate()\n",
      "        offset1test = np.argmax(np.abs(fftpack.ifft(Ar*B)))\n",
      "        offset2test = np.argmax(np.abs(fftpack.ifft(A*Br))) ## This is simply the overshoot of offset1 past the length of the array2\n",
      "    \n",
      "    ## Depending on which offset is shorter, depends on which way to move the arrays relative to each other to achieve maximum correlation.\n",
      "        if offset1test < offset2test:\n",
      "            offset1 = offset1test\n",
      "            offset2 = 0\n",
      "        else:\n",
      "            offset1 = 0\n",
      "            offset2 = offset2test\n",
      "        \n",
      "    ## Pad by the offset calculated by the correlation onto the beginning of the first array, and onto the end of the second.\n",
      "    ## Note this is calculated depending on the smallest movement, and is thus applied as either offset 1 or offset 2, but switching\n",
      "    ## which dataset to add it to the front or back of.\n",
      "        array1 = np.pad(array1, (int(offset1),int(offset2)), mode = 'constant', constant_values = 0)\n",
      "        array2 = np.pad(array2, (int(offset2),int(offset1)), mode = 'constant', constant_values = 0)\n",
      "        \n",
      "    ## If we have been given an offset to use instead of calculating, use that offset instead of going through calculating our own.\n",
      "    else:\n",
      "        offset1 = 0\n",
      "        offset2 = 0\n",
      "        if force_align > 0:\n",
      "            offset1 = force_align\n",
      "        else:\n",
      "            force_align < 0\n",
      "            offset2 = abs(force_align)\n",
      "        \n",
      "        array1 = np.pad(array1, (int(offset1),int(offset2)), mode = 'constant', constant_values = 0)\n",
      "        array2 = np.pad(array2, (int(offset2),int(offset1)), mode = 'constant', constant_values = 0)\n",
      "        \n",
      "    # Calculate the points of overlap between the two original arrays, these will be used to clip excess padding.\n",
      "    point1 = offset1 + offset2\n",
      "    point2 = min(offset1 + orig_size1, offset2 + orig_size2)\n",
      "    \n",
      "    # If draw is yes, then draw the plots to visualise what has occured...\n",
      "    if draw == 'yes':\n",
      "        plt.figure(1)\n",
      "        plt.xlabel('Time')\n",
      "        plt.ylabel('Frequency')\n",
      "        plt.subplot(211)\n",
      "        plt.plot(array1)\n",
      "        plt.axvline((point1+1), linewidth=2, color='r')\n",
      "        plt.axvline((point2-1), linewidth=2, color='r')\n",
      "        plt.subplot(212)\n",
      "        plt.plot(array2)\n",
      "        plt.axvline((point1+1), linewidth=2, color='r')\n",
      "        plt.axvline((point2-1), linewidth=2, color='r')\n",
      "        plt.show()\n",
      "    \n",
      "    comparearray1 = array1[point1:point2]\n",
      "    comparearray2 = array2[point1:point2]\n",
      "\n",
      "    # Return only the maximum overlap of the two arrays at the maximum correlation point offset.\n",
      "    return comparearray1, comparearray2, offset1-offset2"
     ],
     "language": "python",
     "metadata": {},
     "outputs": [],
     "prompt_number": 413
    },
    {
     "cell_type": "code",
     "collapsed": false,
     "input": [],
     "language": "python",
     "metadata": {},
     "outputs": [],
     "prompt_number": 317
    },
    {
     "cell_type": "code",
     "collapsed": false,
     "input": [],
     "language": "python",
     "metadata": {},
     "outputs": [],
     "prompt_number": 317
    },
    {
     "cell_type": "code",
     "collapsed": false,
     "input": [],
     "language": "python",
     "metadata": {},
     "outputs": [],
     "prompt_number": 189
    },
    {
     "cell_type": "code",
     "collapsed": false,
     "input": [],
     "language": "python",
     "metadata": {},
     "outputs": [],
     "prompt_number": 187
    },
    {
     "cell_type": "code",
     "collapsed": false,
     "input": [],
     "language": "python",
     "metadata": {},
     "outputs": [],
     "prompt_number": 187
    },
    {
     "cell_type": "code",
     "collapsed": false,
     "input": [],
     "language": "python",
     "metadata": {},
     "outputs": [],
     "prompt_number": 192
    },
    {
     "cell_type": "code",
     "collapsed": false,
     "input": [
      "\n"
     ],
     "language": "python",
     "metadata": {},
     "outputs": [],
     "prompt_number": 273
    },
    {
     "cell_type": "code",
     "collapsed": false,
     "input": [],
     "language": "python",
     "metadata": {},
     "outputs": [],
     "prompt_number": 316
    },
    {
     "cell_type": "code",
     "collapsed": false,
     "input": [],
     "language": "python",
     "metadata": {},
     "outputs": [],
     "prompt_number": 317
    },
    {
     "cell_type": "code",
     "collapsed": false,
     "input": [
      "def add_percent_bar():\n",
      "    sys.stdout.write('\u2588') #<-- here's the progress bar meat\n",
      "    sys.stdout.flush()\n",
      "    \n",
      "    "
     ],
     "language": "python",
     "metadata": {},
     "outputs": [],
     "prompt_number": 317
    },
    {
     "cell_type": "code",
     "collapsed": false,
     "input": [
      "\n",
      "    "
     ],
     "language": "python",
     "metadata": {},
     "outputs": [],
     "prompt_number": 316
    },
    {
     "cell_type": "code",
     "collapsed": false,
     "input": [],
     "language": "python",
     "metadata": {},
     "outputs": []
    }
   ],
   "metadata": {}
  }
 ]
}