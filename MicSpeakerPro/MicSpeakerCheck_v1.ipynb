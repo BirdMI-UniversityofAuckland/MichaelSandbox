{
 "metadata": {
  "name": "",
  "signature": "sha256:5ffa9cec2ba49a532a5df95fb0f12fc7dc8b2a9a3a476ac74fd2ecb4ac8bf7cc"
 },
 "nbformat": 3,
 "nbformat_minor": 0,
 "worksheets": [
  {
   "cells": [
    {
     "cell_type": "markdown",
     "metadata": {},
     "source": [
      "**MicSpeakerCheck,**\n",
      "\n",
      "This program is designed to compare the transition of a digital sound with a sound that has been through a speaker, and recorded via a microphone. Multiple sounds will be tested, and different hardwares (speakers and microphones) will also be tested.\n",
      "\n",
      "**The program works as follows,**\n",
      "\n",
      "A selected sound is played through the speaker, and recorded simultaneously. The two raw traces of the two sounds are saved to wav files, where SAP-2011 is used to calculate characteristic sound features and exported to .sql files containing the raw features. These raw features are then loaded back so that the second half of the program can analyse to give a correlation coefficient.\n",
      "These coefficients can then be plotted to form a population distribution, and are compared to the population distributions of non-re-recorded songs.\n",
      "These distributions can then be visualised using matplotlib, and any differences from the hardware passthrough noted.\n",
      "\n",
      "By analysing the overlap of the distributions between the birds own song, and the differences between the speakers, we should get a realistic idea if the playback from the speaker will be faithful enough at reproducing birds own song that it can be used in our BMI.\n",
      "\n",
      "Written by Michael Barnett\n",
      "Started 5th Aug 2015\n",
      "\n",
      "** Movement of external data: **\n",
      "\n",
      "The **working_directory** will consist of 3 folders, \n",
      "\n",
      "**1. WAV Library,** this contains all sounds we intend to test, eg Noise, Syllables, Motifs, pure tones, ascending tones.\n",
      "\n",
      "**2. PROCESSED library,**this contains saved versions of what numpy array was played through the speaker, and what was recorded via microphone for all the sound files from the WAV library\n",
      "\n",
      "**3. RAW library,**will contain the raw .sql files created via the batch process in SAP 2011, which holds the calculated song features.\n",
      "\n",
      "Finally, the working directory folder itself may contain the output , ie matlabplots, excel files etc.\n",
      "** < TO BE DETERMINED **\n",
      "\n"
     ]
    },
    {
     "cell_type": "code",
     "collapsed": false,
     "input": [
      "## THIS IS A GREAT STARTING CELL TO RUN TO ENSURE THAT YOU ACTUALLY HAVE THE HARDWARE APPROPRIATELY CONNECTED.\n",
      "import pysoundcard\n",
      "print \"----------------------------------------------------------------\"\n",
      "print \"DEFAULT API: \" + str(pysoundcard.default_api())\n",
      "print \"----------------------------------------------------------------\"\n",
      "print \"DEFAULT OUTPUT DEVICE: \" + str(pysoundcard.default_output_device())\n",
      "print \"----------------------------------------------------------------\"\n",
      "print \"DEFAULT INPUT DEVICE: \" + str(pysoundcard.default_input_device())\n",
      "print \"----------------------------------------------------------------\"\n",
      "\n",
      "import sys\n",
      "sys.version"
     ],
     "language": "python",
     "metadata": {},
     "outputs": [
      {
       "output_type": "stream",
       "stream": "stdout",
       "text": [
        "----------------------------------------------------------------\n",
        "DEFAULT API: {'struct_version': 1, 'name': u'MME', 'api_idx': 0, 'type': 2L, 'default_output_device_index': 3, 'device_count': 4, 'default_input_device_index': 1}\n",
        "----------------------------------------------------------------\n",
        "DEFAULT OUTPUT DEVICE: {'struct_version': 2, 'input_channels': 0, 'default_high_output_latency': 0.18, 'default_low_output_latency': 0.09, 'default_sample_rate': 44100.0, 'output_latency': 0.09, 'name': u'Speakers (Realtek High Definiti', 'interleaved_data': True, 'default_high_input_latency': 0.18, 'device_index': 3, 'sample_format': <type 'numpy.float32'>, 'default_low_input_latency': 0.09, 'host_api_index': 0, 'input_latency': 0.09, 'output_channels': 2}\n",
        "----------------------------------------------------------------\n",
        "DEFAULT INPUT DEVICE: {'struct_version': 2, 'input_channels': 2, 'default_high_output_latency': 0.18, 'default_low_output_latency': 0.09, 'default_sample_rate': 44100.0, 'output_latency': 0.09, 'name': u'Microphone (Realtek High Defini', 'interleaved_data': True, 'default_high_input_latency': 0.18, 'device_index': 1, 'sample_format': <type 'numpy.float32'>, 'default_low_input_latency': 0.09, 'host_api_index': 0, 'input_latency': 0.09, 'output_channels': 0}\n",
        "----------------------------------------------------------------\n"
       ]
      },
      {
       "metadata": {},
       "output_type": "pyout",
       "prompt_number": 199,
       "text": [
        "'2.7.8 |Anaconda 2.1.0 (64-bit)| (default, Jul  2 2014, 15:12:11) [MSC v.1500 64 bit (AMD64)]'"
       ]
      }
     ],
     "prompt_number": 199
    },
    {
     "cell_type": "code",
     "collapsed": false,
     "input": [
      "## Major dependancies\n",
      "import numpy as np\n",
      "from pysoundcard import Stream\n",
      "import scipy.io.wavfile as wav\n",
      "from scipy import signal, fftpack # For comparisons\n",
      "import math\n",
      "import time\n",
      "import os\n",
      "import glob \n",
      "import matplotlib.pyplot as plt\n",
      "#Used for testing at the moment.\n",
      "%matplotlib inline \n",
      "\n",
      "## CHANGE THIS DEPENDING ON WHAT DIRECTORY YOU WISH TO WORK OUT OF, THIS CAN ALSO BE CHANGED BETWEEN TRIALS BETWEEN HARDWARES etc\"\n",
      "## Note that your working directory should contain 3 folders, RAW_LIB, PROCESSED_LIB, and WAV_LIB\n",
      "working_directory = \"c:\\\\Users\\\\mbar372\\\\Documents\\\\testing\\\\hardware_tests\\\\\"\n",
      "\n",
      "## Update the wav library depending on the working directory.\n",
      "\n",
      "### I HAVE TURNED OFF THE UPDATE_WAV_LIB function call for the moment,\n",
      "### as I am using a sample of hand picked motifs,  \n",
      "### as am not comparing frequency sweeps or pure tones etc.\n",
      "\n",
      "#update_wav_lib(working_directory)"
     ],
     "language": "python",
     "metadata": {},
     "outputs": [],
     "prompt_number": 403
    },
    {
     "cell_type": "markdown",
     "metadata": {},
     "source": [
      "We start by importing all the sounds from the WAV_LIB folder located in the working directory, which in this case is filled with 100+ examples of identical healthy motifs of birdsong.\n",
      "\n",
      "We then play each of these, and record at the same time. \n",
      "The resulting recordings are saved as .wav files."
     ]
    },
    {
     "cell_type": "code",
     "collapsed": false,
     "input": [
      "\n",
      "# Import wav library\n",
      "wav_data = import_wav_lib(working_directory)\n",
      "\n",
      "# Play wav library\n",
      "iterate_through_all(wav_data, fs = 44100, window = 256)\n",
      "\n",
      "\"\"\" We now go into SAP2011, and use the raw features across and\n",
      "interval feature to calculate the raw features of all song\n",
      "characteristics for each .wav file from the Process folder.\n",
      "The resulting .xml feature libraries are saved in RAW_LIB. Ready to extract.\n",
      "\"\"\""
     ],
     "language": "python",
     "metadata": {},
     "outputs": [
      {
       "output_type": "stream",
       "stream": "stdout",
       "text": [
        " ---- ---- ---- ---- ---- ---- ---- ---- ---- ---- \n",
        "Playing sound, motif_-01.wav. File 1/126\n",
        "This will take approximately 1 seconds... \n",
        " ---- ---- ---- ---- ---- ---- ---- ---- ---- ---- "
       ]
      },
      {
       "output_type": "stream",
       "stream": "stdout",
       "text": [
        "\n",
        "Playing sound, motif_-02.wav. File 2/126\n",
        "This will take approximately 1 seconds... \n",
        " ---- ---- ---- ---- ---- ---- ---- ---- ---- ---- "
       ]
      },
      {
       "output_type": "stream",
       "stream": "stdout",
       "text": [
        "\n",
        "Playing sound, motif_-03.wav. File 3/126\n",
        "This will take approximately 1 seconds... \n",
        " ---- ---- ---- ---- ---- ---- ---- ---- ---- ---- "
       ]
      },
      {
       "output_type": "stream",
       "stream": "stdout",
       "text": [
        "\n",
        "Playing sound, motif_-04.wav. File 4/126\n",
        "This will take approximately 1 seconds... \n",
        " ---- ---- ---- ---- ---- ---- ---- ---- ---- ---- "
       ]
      },
      {
       "output_type": "stream",
       "stream": "stdout",
       "text": [
        "\n",
        "Playing sound, motif_-05.wav. File 5/126\n",
        "This will take approximately 1 seconds... \n",
        " ---- ---- ---- ---- ---- ---- ---- ---- ---- ---- "
       ]
      },
      {
       "output_type": "stream",
       "stream": "stdout",
       "text": [
        "\n",
        "Playing sound, motif_-06.wav. File 6/126\n",
        "This will take approximately 1 seconds... \n",
        " ---- ---- ---- ---- ---- ---- ---- ---- ---- ---- "
       ]
      },
      {
       "output_type": "stream",
       "stream": "stdout",
       "text": [
        "\n",
        "Playing sound, motif_-07.wav. File 7/126\n",
        "This will take approximately 1 seconds... \n",
        " ---- ---- ---- ---- ---- ---- ---- ---- ---- ---- "
       ]
      },
      {
       "output_type": "stream",
       "stream": "stdout",
       "text": [
        "\n",
        "Playing sound, motif_-08.wav. File 8/126\n",
        "This will take approximately 1 seconds... \n",
        " ---- ---- ---- ---- ---- ---- ---- ---- ---- ---- "
       ]
      },
      {
       "output_type": "stream",
       "stream": "stdout",
       "text": [
        "\n",
        "Playing sound, motif_-09.wav. File 9/126\n",
        "This will take approximately 1 seconds... \n",
        " ---- ---- ---- ---- ---- ---- ---- ---- ---- ---- "
       ]
      },
      {
       "output_type": "stream",
       "stream": "stdout",
       "text": [
        "\n",
        "Playing sound, motif_-10.wav. File 10/126\n",
        "This will take approximately 1 seconds... \n",
        " ---- ---- ---- ---- ---- ---- ---- ---- ---- ---- "
       ]
      },
      {
       "output_type": "stream",
       "stream": "stdout",
       "text": [
        "\n",
        "Playing sound, motif_-100.wav. File 11/126\n",
        "This will take approximately 1 seconds... \n",
        " ---- ---- ---- ---- ---- ---- ---- ---- ---- ---- "
       ]
      },
      {
       "output_type": "stream",
       "stream": "stdout",
       "text": [
        "\n",
        "Playing sound, motif_-101.wav. File 12/126\n",
        "This will take approximately 1 seconds... \n",
        " ---- ---- ---- ---- ---- ---- ---- ---- ---- ---- "
       ]
      },
      {
       "output_type": "stream",
       "stream": "stdout",
       "text": [
        "\n",
        "Playing sound, motif_-102.wav. File 13/126\n",
        "This will take approximately 1 seconds... \n",
        " ---- ---- ---- ---- ---- ---- ---- ---- ---- ---- "
       ]
      },
      {
       "output_type": "stream",
       "stream": "stdout",
       "text": [
        "\n",
        "Playing sound, motif_-103.wav. File 14/126\n",
        "This will take approximately 1 seconds... \n",
        " ---- ---- ---- ---- ---- ---- ---- ---- ---- ---- "
       ]
      },
      {
       "output_type": "stream",
       "stream": "stdout",
       "text": [
        "\n",
        "Playing sound, motif_-104.wav. File 15/126\n",
        "This will take approximately 1 seconds... \n",
        " ---- ---- ---- ---- ---- ---- ---- ---- ---- ---- "
       ]
      },
      {
       "output_type": "stream",
       "stream": "stdout",
       "text": [
        "\n",
        "Playing sound, motif_-105.wav. File 16/126\n",
        "This will take approximately 1 seconds... \n",
        " ---- ---- ---- ---- ---- ---- ---- ---- ---- ---- "
       ]
      },
      {
       "output_type": "stream",
       "stream": "stdout",
       "text": [
        "\n",
        "Playing sound, motif_-106.wav. File 17/126\n",
        "This will take approximately 1 seconds... \n",
        " ---- ---- ---- ---- ---- ---- ---- ---- ---- ---- "
       ]
      },
      {
       "output_type": "stream",
       "stream": "stdout",
       "text": [
        "\n",
        "Playing sound, motif_-107.wav. File 18/126\n",
        "This will take approximately 1 seconds... \n",
        " ---- ---- ---- ---- ---- ---- ---- ---- ---- ---- "
       ]
      },
      {
       "output_type": "stream",
       "stream": "stdout",
       "text": [
        "\n",
        "Playing sound, motif_-108.wav. File 19/126\n",
        "This will take approximately 1 seconds... \n",
        " ---- ---- ---- ---- ---- ---- ---- ---- ---- ---- "
       ]
      },
      {
       "output_type": "stream",
       "stream": "stdout",
       "text": [
        "\n",
        "Playing sound, motif_-109.wav. File 20/126\n",
        "This will take approximately 1 seconds... \n",
        " ---- ---- ---- ---- ---- ---- ---- ---- ---- ---- "
       ]
      },
      {
       "output_type": "stream",
       "stream": "stdout",
       "text": [
        "\n",
        "Playing sound, motif_-11.wav. File 21/126\n",
        "This will take approximately 1 seconds... \n",
        " ---- ---- ---- ---- ---- ---- ---- ---- ---- ---- "
       ]
      },
      {
       "output_type": "stream",
       "stream": "stdout",
       "text": [
        "\n",
        "Playing sound, motif_-110.wav. File 22/126\n",
        "This will take approximately 1 seconds... \n",
        " ---- ---- ---- ---- ---- ---- ---- ---- ---- ---- "
       ]
      },
      {
       "output_type": "stream",
       "stream": "stdout",
       "text": [
        "\n",
        "Playing sound, motif_-111.wav. File 23/126\n",
        "This will take approximately 1 seconds... \n",
        " ---- ---- ---- ---- ---- ---- ---- ---- ---- ---- "
       ]
      },
      {
       "output_type": "stream",
       "stream": "stdout",
       "text": [
        "\n",
        "Playing sound, motif_-112.wav. File 24/126\n",
        "This will take approximately 1 seconds... \n",
        " ---- ---- ---- ---- ---- ---- ---- ---- ---- ---- "
       ]
      },
      {
       "output_type": "stream",
       "stream": "stdout",
       "text": [
        "\n",
        "Playing sound, motif_-113.wav. File 25/126\n",
        "This will take approximately 1 seconds... \n",
        " ---- ---- ---- ---- ---- ---- ---- ---- ---- ---- "
       ]
      },
      {
       "output_type": "stream",
       "stream": "stdout",
       "text": [
        "\n",
        "Playing sound, motif_-114.wav. File 26/126\n",
        "This will take approximately 1 seconds... \n",
        " ---- ---- ---- ---- ---- ---- ---- ---- ---- ---- "
       ]
      },
      {
       "output_type": "stream",
       "stream": "stdout",
       "text": [
        "\n",
        "Playing sound, motif_-115.wav. File 27/126\n",
        "This will take approximately 1 seconds... \n",
        " ---- ---- ---- ---- ---- ---- ---- ---- ---- ---- "
       ]
      },
      {
       "output_type": "stream",
       "stream": "stdout",
       "text": [
        "\n",
        "Playing sound, motif_-116.wav. File 28/126\n",
        "This will take approximately 1 seconds... \n",
        " ---- ---- ---- ---- ---- ---- ---- ---- ---- ---- "
       ]
      },
      {
       "output_type": "stream",
       "stream": "stdout",
       "text": [
        "\n",
        "Playing sound, motif_-117.wav. File 29/126\n",
        "This will take approximately 1 seconds... \n",
        " ---- ---- ---- ---- ---- ---- ---- ---- ---- ---- "
       ]
      },
      {
       "output_type": "stream",
       "stream": "stdout",
       "text": [
        "\n",
        "Playing sound, motif_-118.wav. File 30/126\n",
        "This will take approximately 1 seconds... \n",
        " ---- ---- ---- ---- ---- ---- ---- ---- ---- ---- "
       ]
      },
      {
       "output_type": "stream",
       "stream": "stdout",
       "text": [
        "\n",
        "Playing sound, motif_-119.wav. File 31/126\n",
        "This will take approximately 1 seconds... \n",
        " ---- ---- ---- ---- ---- ---- ---- ---- ---- ---- "
       ]
      },
      {
       "output_type": "stream",
       "stream": "stdout",
       "text": [
        "\n",
        "Playing sound, motif_-12.wav. File 32/126\n",
        "This will take approximately 1 seconds... \n",
        " ---- ---- ---- ---- ---- ---- ---- ---- ---- ---- "
       ]
      },
      {
       "output_type": "stream",
       "stream": "stdout",
       "text": [
        "\n",
        "Playing sound, motif_-120.wav. File 33/126\n",
        "This will take approximately 1 seconds... \n",
        " ---- ---- ---- ---- ---- ---- ---- ---- ---- ---- "
       ]
      },
      {
       "output_type": "stream",
       "stream": "stdout",
       "text": [
        "\n",
        "Playing sound, motif_-121.wav. File 34/126\n",
        "This will take approximately 1 seconds... \n",
        " ---- ---- ---- ---- ---- ---- ---- ---- ---- ---- "
       ]
      },
      {
       "output_type": "stream",
       "stream": "stdout",
       "text": [
        "\n",
        "Playing sound, motif_-122.wav. File 35/126\n",
        "This will take approximately 1 seconds... \n",
        " ---- ---- ---- ---- ---- ---- ---- ---- ---- ---- "
       ]
      },
      {
       "output_type": "stream",
       "stream": "stdout",
       "text": [
        "\n",
        "Playing sound, motif_-123.wav. File 36/126\n",
        "This will take approximately 1 seconds... \n",
        " ---- ---- ---- ---- ---- ---- ---- ---- ---- ---- "
       ]
      },
      {
       "output_type": "stream",
       "stream": "stdout",
       "text": [
        "\n",
        "Playing sound, motif_-124.wav. File 37/126\n",
        "This will take approximately 1 seconds... \n",
        " ---- ---- ---- ---- ---- ---- ---- ---- ---- ---- "
       ]
      },
      {
       "output_type": "stream",
       "stream": "stdout",
       "text": [
        "\n",
        "Playing sound, motif_-125.wav. File 38/126\n",
        "This will take approximately 1 seconds... \n",
        " ---- ---- ---- ---- ---- ---- ---- ---- ---- ---- "
       ]
      },
      {
       "output_type": "stream",
       "stream": "stdout",
       "text": [
        "\n",
        "Playing sound, motif_-126.wav. File 39/126\n",
        "This will take approximately 1 seconds... \n",
        " ---- ---- ---- ---- ---- ---- ---- ---- ---- ---- "
       ]
      },
      {
       "output_type": "stream",
       "stream": "stdout",
       "text": [
        "\n",
        "Playing sound, motif_-13.wav. File 40/126\n",
        "This will take approximately 1 seconds... \n",
        " ---- ---- ---- ---- ---- ---- ---- ---- ---- ---- "
       ]
      },
      {
       "output_type": "stream",
       "stream": "stdout",
       "text": [
        "\n",
        "Playing sound, motif_-14.wav. File 41/126\n",
        "This will take approximately 1 seconds... \n",
        " ---- ---- ---- ---- ---- ---- ---- ---- ---- ---- "
       ]
      },
      {
       "output_type": "stream",
       "stream": "stdout",
       "text": [
        "\n",
        "Playing sound, motif_-15.wav. File 42/126\n",
        "This will take approximately 1 seconds... \n",
        " ---- ---- ---- ---- ---- ---- ---- ---- ---- ---- "
       ]
      },
      {
       "output_type": "stream",
       "stream": "stdout",
       "text": [
        "\n",
        "Playing sound, motif_-16.wav. File 43/126\n",
        "This will take approximately 1 seconds... \n",
        " ---- ---- ---- ---- ---- ---- ---- ---- ---- ---- "
       ]
      },
      {
       "output_type": "stream",
       "stream": "stdout",
       "text": [
        "\n",
        "Playing sound, motif_-17.wav. File 44/126\n",
        "This will take approximately 1 seconds... \n",
        " ---- ---- ---- ---- ---- ---- ---- ---- ---- ---- "
       ]
      },
      {
       "output_type": "stream",
       "stream": "stdout",
       "text": [
        "\n",
        "Playing sound, motif_-18.wav. File 45/126\n",
        "This will take approximately 1 seconds... \n",
        " ---- ---- ---- ---- ---- ---- ---- ---- ---- ---- "
       ]
      },
      {
       "output_type": "stream",
       "stream": "stdout",
       "text": [
        "\n",
        "Playing sound, motif_-19.wav. File 46/126\n",
        "This will take approximately 1 seconds... \n",
        " ---- ---- ---- ---- ---- ---- ---- ---- ---- ---- "
       ]
      },
      {
       "output_type": "stream",
       "stream": "stdout",
       "text": [
        "\n",
        "Playing sound, motif_-20.wav. File 47/126\n",
        "This will take approximately 1 seconds... \n",
        " ---- ---- ---- ---- ---- ---- ---- ---- ---- ---- "
       ]
      },
      {
       "output_type": "stream",
       "stream": "stdout",
       "text": [
        "\n",
        "Playing sound, motif_-21.wav. File 48/126\n",
        "This will take approximately 1 seconds... \n",
        " ---- ---- ---- ---- ---- ---- ---- ---- ---- ---- "
       ]
      },
      {
       "output_type": "stream",
       "stream": "stdout",
       "text": [
        "\n",
        "Playing sound, motif_-22.wav. File 49/126\n",
        "This will take approximately 1 seconds... \n",
        " ---- ---- ---- ---- ---- ---- ---- ---- ---- ---- "
       ]
      },
      {
       "output_type": "stream",
       "stream": "stdout",
       "text": [
        "\n",
        "Playing sound, motif_-23.wav. File 50/126\n",
        "This will take approximately 1 seconds... \n",
        " ---- ---- ---- ---- ---- ---- ---- ---- ---- ---- "
       ]
      },
      {
       "output_type": "stream",
       "stream": "stdout",
       "text": [
        "\n",
        "Playing sound, motif_-24.wav. File 51/126\n",
        "This will take approximately 1 seconds... \n",
        " ---- ---- ---- ---- ---- ---- ---- ---- ---- ---- "
       ]
      },
      {
       "output_type": "stream",
       "stream": "stdout",
       "text": [
        "\n",
        "Playing sound, motif_-25.wav. File 52/126\n",
        "This will take approximately 1 seconds... \n",
        " ---- ---- ---- ---- ---- ---- ---- ---- ---- ---- "
       ]
      },
      {
       "output_type": "stream",
       "stream": "stdout",
       "text": [
        "\n",
        "Playing sound, motif_-26.wav. File 53/126\n",
        "This will take approximately 1 seconds... \n",
        " ---- ---- ---- ---- ---- ---- ---- ---- ---- ---- "
       ]
      },
      {
       "output_type": "stream",
       "stream": "stdout",
       "text": [
        "\n",
        "Playing sound, motif_-27.wav. File 54/126\n",
        "This will take approximately 1 seconds... \n",
        " ---- ---- ---- ---- ---- ---- ---- ---- ---- ---- "
       ]
      },
      {
       "output_type": "stream",
       "stream": "stdout",
       "text": [
        "\n",
        "Playing sound, motif_-28.wav. File 55/126\n",
        "This will take approximately 1 seconds... \n",
        " ---- ---- ---- ---- ---- ---- ---- ---- ---- ---- "
       ]
      },
      {
       "output_type": "stream",
       "stream": "stdout",
       "text": [
        "\n",
        "Playing sound, motif_-29.wav. File 56/126\n",
        "This will take approximately 1 seconds... \n",
        " ---- ---- ---- ---- ---- ---- ---- ---- ---- ---- "
       ]
      },
      {
       "output_type": "stream",
       "stream": "stdout",
       "text": [
        "\n",
        "Playing sound, motif_-30.wav. File 57/126\n",
        "This will take approximately 1 seconds... \n",
        " ---- ---- ---- ---- ---- ---- ---- ---- ---- ---- "
       ]
      },
      {
       "output_type": "stream",
       "stream": "stdout",
       "text": [
        "\n",
        "Playing sound, motif_-31.wav. File 58/126\n",
        "This will take approximately 1 seconds... \n",
        " ---- ---- ---- ---- ---- ---- ---- ---- ---- ---- "
       ]
      },
      {
       "output_type": "stream",
       "stream": "stdout",
       "text": [
        "\n",
        "Playing sound, motif_-32.wav. File 59/126\n",
        "This will take approximately 1 seconds... \n",
        " ---- ---- ---- ---- ---- ---- ---- ---- ---- ---- "
       ]
      },
      {
       "output_type": "stream",
       "stream": "stdout",
       "text": [
        "\n",
        "Playing sound, motif_-33.wav. File 60/126\n",
        "This will take approximately 1 seconds... \n",
        " ---- ---- ---- ---- ---- ---- ---- ---- ---- ---- "
       ]
      },
      {
       "output_type": "stream",
       "stream": "stdout",
       "text": [
        "\n",
        "Playing sound, motif_-34.wav. File 61/126\n",
        "This will take approximately 1 seconds... \n",
        " ---- ---- ---- ---- ---- ---- ---- ---- ---- ---- "
       ]
      },
      {
       "output_type": "stream",
       "stream": "stdout",
       "text": [
        "\n",
        "Playing sound, motif_-35.wav. File 62/126\n",
        "This will take approximately 1 seconds... \n",
        " ---- ---- ---- ---- ---- ---- ---- ---- ---- ---- "
       ]
      },
      {
       "output_type": "stream",
       "stream": "stdout",
       "text": [
        "\n",
        "Playing sound, motif_-36.wav. File 63/126\n",
        "This will take approximately 1 seconds... \n",
        " ---- ---- ---- ---- ---- ---- ---- ---- ---- ---- "
       ]
      },
      {
       "output_type": "stream",
       "stream": "stdout",
       "text": [
        "\n",
        "Playing sound, motif_-37.wav. File 64/126\n",
        "This will take approximately 1 seconds... \n",
        " ---- ---- ---- ---- ---- ---- ---- ---- ---- ---- "
       ]
      },
      {
       "output_type": "stream",
       "stream": "stdout",
       "text": [
        "\n",
        "Playing sound, motif_-38.wav. File 65/126\n",
        "This will take approximately 1 seconds... \n",
        " ---- ---- ---- ---- ---- ---- ---- ---- ---- ---- "
       ]
      },
      {
       "output_type": "stream",
       "stream": "stdout",
       "text": [
        "\n",
        "Playing sound, motif_-39.wav. File 66/126\n",
        "This will take approximately 1 seconds... \n",
        " ---- ---- ---- ---- ---- ---- ---- ---- ---- ---- "
       ]
      },
      {
       "output_type": "stream",
       "stream": "stdout",
       "text": [
        "\n",
        "Playing sound, motif_-40.wav. File 67/126\n",
        "This will take approximately 1 seconds... \n",
        " ---- ---- ---- ---- ---- ---- ---- ---- ---- ---- "
       ]
      },
      {
       "output_type": "stream",
       "stream": "stdout",
       "text": [
        "\n",
        "Playing sound, motif_-41.wav. File 68/126\n",
        "This will take approximately 1 seconds... \n",
        " ---- ---- ---- ---- ---- ---- ---- ---- ---- ---- "
       ]
      },
      {
       "output_type": "stream",
       "stream": "stdout",
       "text": [
        "\n",
        "Playing sound, motif_-42.wav. File 69/126\n",
        "This will take approximately 1 seconds... \n",
        " ---- ---- ---- ---- ---- ---- ---- ---- ---- ---- "
       ]
      },
      {
       "output_type": "stream",
       "stream": "stdout",
       "text": [
        "\n",
        "Playing sound, motif_-43.wav. File 70/126\n",
        "This will take approximately 1 seconds... \n",
        " ---- ---- ---- ---- ---- ---- ---- ---- ---- ---- "
       ]
      },
      {
       "output_type": "stream",
       "stream": "stdout",
       "text": [
        "\n",
        "Playing sound, motif_-44.wav. File 71/126\n",
        "This will take approximately 1 seconds... \n",
        " ---- ---- ---- ---- ---- ---- ---- ---- ---- ---- "
       ]
      },
      {
       "output_type": "stream",
       "stream": "stdout",
       "text": [
        "\n",
        "Playing sound, motif_-45.wav. File 72/126\n",
        "This will take approximately 1 seconds... \n",
        " ---- ---- ---- ---- ---- ---- ---- ---- ---- ---- "
       ]
      },
      {
       "output_type": "stream",
       "stream": "stdout",
       "text": [
        "\n",
        "Playing sound, motif_-46.wav. File 73/126\n",
        "This will take approximately 1 seconds... \n",
        " ---- ---- ---- ---- ---- ---- ---- ---- ---- ---- "
       ]
      },
      {
       "output_type": "stream",
       "stream": "stdout",
       "text": [
        "\n",
        "Playing sound, motif_-47.wav. File 74/126\n",
        "This will take approximately 1 seconds... \n",
        " ---- ---- ---- ---- ---- ---- ---- ---- ---- ---- "
       ]
      },
      {
       "output_type": "stream",
       "stream": "stdout",
       "text": [
        "\n",
        "Playing sound, motif_-48.wav. File 75/126\n",
        "This will take approximately 1 seconds... \n",
        " ---- ---- ---- ---- ---- ---- ---- ---- ---- ---- "
       ]
      },
      {
       "output_type": "stream",
       "stream": "stdout",
       "text": [
        "\n",
        "Playing sound, motif_-49.wav. File 76/126\n",
        "This will take approximately 1 seconds... \n",
        " ---- ---- ---- ---- ---- ---- ---- ---- ---- ---- "
       ]
      },
      {
       "output_type": "stream",
       "stream": "stdout",
       "text": [
        "\n",
        "Playing sound, motif_-50.wav. File 77/126\n",
        "This will take approximately 1 seconds... \n",
        " ---- ---- ---- ---- ---- ---- ---- ---- ---- ---- "
       ]
      },
      {
       "output_type": "stream",
       "stream": "stdout",
       "text": [
        "\n",
        "Playing sound, motif_-51.wav. File 78/126\n",
        "This will take approximately 1 seconds... \n",
        " ---- ---- ---- ---- ---- ---- ---- ---- ---- ---- "
       ]
      },
      {
       "output_type": "stream",
       "stream": "stdout",
       "text": [
        "\n",
        "Playing sound, motif_-52.wav. File 79/126\n",
        "This will take approximately 1 seconds... \n",
        " ---- ---- ---- ---- ---- ---- ---- ---- ---- ---- "
       ]
      },
      {
       "output_type": "stream",
       "stream": "stdout",
       "text": [
        "\n",
        "Playing sound, motif_-53.wav. File 80/126\n",
        "This will take approximately 1 seconds... \n",
        " ---- ---- ---- ---- ---- ---- ---- ---- ---- ---- "
       ]
      },
      {
       "output_type": "stream",
       "stream": "stdout",
       "text": [
        "\n",
        "Playing sound, motif_-54.wav. File 81/126\n",
        "This will take approximately 1 seconds... \n",
        " ---- ---- ---- ---- ---- ---- ---- ---- ---- ---- "
       ]
      },
      {
       "output_type": "stream",
       "stream": "stdout",
       "text": [
        "\n",
        "Playing sound, motif_-55.wav. File 82/126\n",
        "This will take approximately 1 seconds... \n",
        " ---- ---- ---- ---- ---- ---- ---- ---- ---- ---- "
       ]
      },
      {
       "output_type": "stream",
       "stream": "stdout",
       "text": [
        "\n",
        "Playing sound, motif_-56.wav. File 83/126\n",
        "This will take approximately 1 seconds... \n",
        " ---- ---- ---- ---- ---- ---- ---- ---- ---- ---- "
       ]
      },
      {
       "output_type": "stream",
       "stream": "stdout",
       "text": [
        "\n",
        "Playing sound, motif_-57.wav. File 84/126\n",
        "This will take approximately 1 seconds... \n",
        " ---- ---- ---- ---- ---- ---- ---- ---- ---- ---- "
       ]
      },
      {
       "output_type": "stream",
       "stream": "stdout",
       "text": [
        "\n",
        "Playing sound, motif_-58.wav. File 85/126\n",
        "This will take approximately 1 seconds... \n",
        " ---- ---- ---- ---- ---- ---- ---- ---- ---- ---- "
       ]
      },
      {
       "output_type": "stream",
       "stream": "stdout",
       "text": [
        "\n",
        "Playing sound, motif_-59.wav. File 86/126\n",
        "This will take approximately 1 seconds... \n",
        " ---- ---- ---- ---- ---- ---- ---- ---- ---- ---- "
       ]
      },
      {
       "output_type": "stream",
       "stream": "stdout",
       "text": [
        "\n",
        "Playing sound, motif_-60.wav. File 87/126\n",
        "This will take approximately 1 seconds... \n",
        " ---- ---- ---- ---- ---- ---- ---- ---- ---- ---- "
       ]
      },
      {
       "output_type": "stream",
       "stream": "stdout",
       "text": [
        "\n",
        "Playing sound, motif_-61.wav. File 88/126\n",
        "This will take approximately 1 seconds... \n",
        " ---- ---- ---- ---- ---- ---- ---- ---- ---- ---- "
       ]
      },
      {
       "output_type": "stream",
       "stream": "stdout",
       "text": [
        "\n",
        "Playing sound, motif_-62.wav. File 89/126\n",
        "This will take approximately 1 seconds... \n",
        " ---- ---- ---- ---- ---- ---- ---- ---- ---- ---- "
       ]
      },
      {
       "output_type": "stream",
       "stream": "stdout",
       "text": [
        "\n",
        "Playing sound, motif_-63.wav. File 90/126\n",
        "This will take approximately 1 seconds... \n",
        " ---- ---- ---- ---- ---- ---- ---- ---- ---- ---- "
       ]
      },
      {
       "output_type": "stream",
       "stream": "stdout",
       "text": [
        "\n",
        "Playing sound, motif_-64.wav. File 91/126\n",
        "This will take approximately 1 seconds... \n",
        " ---- ---- ---- ---- ---- ---- ---- ---- ---- ---- "
       ]
      },
      {
       "output_type": "stream",
       "stream": "stdout",
       "text": [
        "\n",
        "Playing sound, motif_-65.wav. File 92/126\n",
        "This will take approximately 1 seconds... \n",
        " ---- ---- ---- ---- ---- ---- ---- ---- ---- ---- "
       ]
      },
      {
       "output_type": "stream",
       "stream": "stdout",
       "text": [
        "\n",
        "Playing sound, motif_-66.wav. File 93/126\n",
        "This will take approximately 1 seconds... \n",
        " ---- ---- ---- ---- ---- ---- ---- ---- ---- ---- "
       ]
      },
      {
       "output_type": "stream",
       "stream": "stdout",
       "text": [
        "\n",
        "Playing sound, motif_-67.wav. File 94/126\n",
        "This will take approximately 1 seconds... \n",
        " ---- ---- ---- ---- ---- ---- ---- ---- ---- ---- "
       ]
      },
      {
       "output_type": "stream",
       "stream": "stdout",
       "text": [
        "\n",
        "Playing sound, motif_-68.wav. File 95/126\n",
        "This will take approximately 1 seconds... \n",
        " ---- ---- ---- ---- ---- ---- ---- ---- ---- ---- "
       ]
      },
      {
       "output_type": "stream",
       "stream": "stdout",
       "text": [
        "\n",
        "Playing sound, motif_-69.wav. File 96/126\n",
        "This will take approximately 1 seconds... \n",
        " ---- ---- ---- ---- ---- ---- ---- ---- ---- ---- "
       ]
      },
      {
       "output_type": "stream",
       "stream": "stdout",
       "text": [
        "\n",
        "Playing sound, motif_-70.wav. File 97/126\n",
        "This will take approximately 1 seconds... \n",
        " ---- ---- ---- ---- ---- ---- ---- ---- ---- ---- "
       ]
      },
      {
       "output_type": "stream",
       "stream": "stdout",
       "text": [
        "\n",
        "Playing sound, motif_-71.wav. File 98/126\n",
        "This will take approximately 1 seconds... \n",
        " ---- ---- ---- ---- ---- ---- ---- ---- ---- ---- "
       ]
      },
      {
       "output_type": "stream",
       "stream": "stdout",
       "text": [
        "\n",
        "Playing sound, motif_-72.wav. File 99/126\n",
        "This will take approximately 1 seconds... \n",
        " ---- ---- ---- ---- ---- ---- ---- ---- ---- ---- "
       ]
      },
      {
       "output_type": "stream",
       "stream": "stdout",
       "text": [
        "\n",
        "Playing sound, motif_-73.wav. File 100/126\n",
        "This will take approximately 1 seconds... \n",
        " ---- ---- ---- ---- ---- ---- ---- ---- ---- ---- "
       ]
      },
      {
       "output_type": "stream",
       "stream": "stdout",
       "text": [
        "\n",
        "Playing sound, motif_-74.wav. File 101/126\n",
        "This will take approximately 1 seconds... \n",
        " ---- ---- ---- ---- ---- ---- ---- ---- ---- ---- "
       ]
      },
      {
       "output_type": "stream",
       "stream": "stdout",
       "text": [
        "\n",
        "Playing sound, motif_-75.wav. File 102/126\n",
        "This will take approximately 1 seconds... \n",
        " ---- ---- ---- ---- ---- ---- ---- ---- ---- ---- "
       ]
      },
      {
       "output_type": "stream",
       "stream": "stdout",
       "text": [
        "\n",
        "Playing sound, motif_-76.wav. File 103/126\n",
        "This will take approximately 1 seconds... \n",
        " ---- ---- ---- ---- ---- ---- ---- ---- ---- ---- "
       ]
      },
      {
       "output_type": "stream",
       "stream": "stdout",
       "text": [
        "\n",
        "Playing sound, motif_-77.wav. File 104/126\n",
        "This will take approximately 1 seconds... \n",
        " ---- ---- ---- ---- ---- ---- ---- ---- ---- ---- "
       ]
      },
      {
       "output_type": "stream",
       "stream": "stdout",
       "text": [
        "\n",
        "Playing sound, motif_-78.wav. File 105/126\n",
        "This will take approximately 1 seconds... \n",
        " ---- ---- ---- ---- ---- ---- ---- ---- ---- ---- "
       ]
      },
      {
       "output_type": "stream",
       "stream": "stdout",
       "text": [
        "\n",
        "Playing sound, motif_-79.wav. File 106/126\n",
        "This will take approximately 1 seconds... \n",
        " ---- ---- ---- ---- ---- ---- ---- ---- ---- ---- "
       ]
      },
      {
       "output_type": "stream",
       "stream": "stdout",
       "text": [
        "\n",
        "Playing sound, motif_-80.wav. File 107/126\n",
        "This will take approximately 1 seconds... \n",
        " ---- ---- ---- ---- ---- ---- ---- ---- ---- ---- "
       ]
      },
      {
       "output_type": "stream",
       "stream": "stdout",
       "text": [
        "\n",
        "Playing sound, motif_-81.wav. File 108/126\n",
        "This will take approximately 1 seconds... \n",
        " ---- ---- ---- ---- ---- ---- ---- ---- ---- ---- "
       ]
      },
      {
       "output_type": "stream",
       "stream": "stdout",
       "text": [
        "\n",
        "Playing sound, motif_-82.wav. File 109/126\n",
        "This will take approximately 1 seconds... \n",
        " ---- ---- ---- ---- ---- ---- ---- ---- ---- ---- "
       ]
      },
      {
       "output_type": "stream",
       "stream": "stdout",
       "text": [
        "\n",
        "Playing sound, motif_-83.wav. File 110/126\n",
        "This will take approximately 1 seconds... \n",
        " ---- ---- ---- ---- ---- ---- ---- ---- ---- ---- "
       ]
      },
      {
       "output_type": "stream",
       "stream": "stdout",
       "text": [
        "\n",
        "Playing sound, motif_-84.wav. File 111/126\n",
        "This will take approximately 1 seconds... \n",
        " ---- ---- ---- ---- ---- ---- ---- ---- ---- ---- "
       ]
      },
      {
       "output_type": "stream",
       "stream": "stdout",
       "text": [
        "\n",
        "Playing sound, motif_-85.wav. File 112/126\n",
        "This will take approximately 1 seconds... \n",
        " ---- ---- ---- ---- ---- ---- ---- ---- ---- ---- "
       ]
      },
      {
       "output_type": "stream",
       "stream": "stdout",
       "text": [
        "\n",
        "Playing sound, motif_-86.wav. File 113/126\n",
        "This will take approximately 1 seconds... \n",
        " ---- ---- ---- ---- ---- ---- ---- ---- ---- ---- "
       ]
      },
      {
       "output_type": "stream",
       "stream": "stdout",
       "text": [
        "\n",
        "Playing sound, motif_-87.wav. File 114/126\n",
        "This will take approximately 1 seconds... \n",
        " ---- ---- ---- ---- ---- ---- ---- ---- ---- ---- "
       ]
      },
      {
       "output_type": "stream",
       "stream": "stdout",
       "text": [
        "\n",
        "Playing sound, motif_-88.wav. File 115/126\n",
        "This will take approximately 1 seconds... \n",
        " ---- ---- ---- ---- ---- ---- ---- ---- ---- ---- "
       ]
      },
      {
       "output_type": "stream",
       "stream": "stdout",
       "text": [
        "\n",
        "Playing sound, motif_-89.wav. File 116/126\n",
        "This will take approximately 1 seconds... \n",
        " ---- ---- ---- ---- ---- ---- ---- ---- ---- ---- "
       ]
      },
      {
       "output_type": "stream",
       "stream": "stdout",
       "text": [
        "\n",
        "Playing sound, motif_-90.wav. File 117/126\n",
        "This will take approximately 1 seconds... \n",
        " ---- ---- ---- ---- ---- ---- ---- ---- ---- ---- "
       ]
      },
      {
       "output_type": "stream",
       "stream": "stdout",
       "text": [
        "\n",
        "Playing sound, motif_-91.wav. File 118/126\n",
        "This will take approximately 1 seconds... \n",
        " ---- ---- ---- ---- ---- ---- ---- ---- ---- ---- "
       ]
      },
      {
       "output_type": "stream",
       "stream": "stdout",
       "text": [
        "\n",
        "Playing sound, motif_-92.wav. File 119/126\n",
        "This will take approximately 1 seconds... \n",
        " ---- ---- ---- ---- ---- ---- ---- ---- ---- ---- "
       ]
      },
      {
       "output_type": "stream",
       "stream": "stdout",
       "text": [
        "\n",
        "Playing sound, motif_-93.wav. File 120/126\n",
        "This will take approximately 1 seconds... \n",
        " ---- ---- ---- ---- ---- ---- ---- ---- ---- ---- "
       ]
      },
      {
       "output_type": "stream",
       "stream": "stdout",
       "text": [
        "\n",
        "Playing sound, motif_-94.wav. File 121/126\n",
        "This will take approximately 1 seconds... \n",
        " ---- ---- ---- ---- ---- ---- ---- ---- ---- ---- "
       ]
      },
      {
       "output_type": "stream",
       "stream": "stdout",
       "text": [
        "\n",
        "Playing sound, motif_-95.wav. File 122/126\n",
        "This will take approximately 1 seconds... \n",
        " ---- ---- ---- ---- ---- ---- ---- ---- ---- ---- "
       ]
      },
      {
       "output_type": "stream",
       "stream": "stdout",
       "text": [
        "\n",
        "Playing sound, motif_-96.wav. File 123/126\n",
        "This will take approximately 1 seconds... \n",
        " ---- ---- ---- ---- ---- ---- ---- ---- ---- ---- "
       ]
      },
      {
       "output_type": "stream",
       "stream": "stdout",
       "text": [
        "\n",
        "Playing sound, motif_-97.wav. File 124/126\n",
        "This will take approximately 1 seconds... \n",
        " ---- ---- ---- ---- ---- ---- ---- ---- ---- ---- "
       ]
      },
      {
       "output_type": "stream",
       "stream": "stdout",
       "text": [
        "\n",
        "Playing sound, motif_-98.wav. File 125/126\n",
        "This will take approximately 1 seconds... \n",
        " ---- ---- ---- ---- ---- ---- ---- ---- ---- ---- "
       ]
      },
      {
       "output_type": "stream",
       "stream": "stdout",
       "text": [
        "\n",
        "Playing sound, motif_-99.wav. File 126/126\n",
        "This will take approximately 1 seconds... \n",
        " ---- ---- ---- ---- Finished ---- ---- ---- ---- "
       ]
      },
      {
       "output_type": "stream",
       "stream": "stdout",
       "text": [
        "\n",
        " ---- ---- ---- ---- ---- ---- ---- ---- ---- ---- \n"
       ]
      },
      {
       "output_type": "stream",
       "stream": "stderr",
       "text": [
        "C:\\Users\\mbar372\\AppData\\Local\\Continuum\\Anaconda\\lib\\site-packages\\scipy\\io\\wavfile.py:172: WavFileWarning: Chunk (non-data) not understood, skipping it.\n",
        "  WavFileWarning)\n"
       ]
      },
      {
       "metadata": {},
       "output_type": "pyout",
       "prompt_number": 64,
       "text": [
        "' We now go into SAP2011, and use the raw features across and\\ninterval feature to calculate the raw features of all song\\ncharacteristics for each .wav file from the Process folder.\\nThe resulting .xml feature libraries are saved in RAW_LIB. Ready to extract.\\n'"
       ]
      }
     ],
     "prompt_number": 64
    },
    {
     "cell_type": "markdown",
     "metadata": {},
     "source": [
      "After going into SAP 2011, and sparately Batching through all the played songs, and the re-recorded songs, we have 4 files. That is the raw features table for each dataset, and a file_name table for each dataset.\n",
      "\n",
      "We point the program to these files (Which should be saved in the RAW_LIB folder straight for SAP 2011 for consistency) \n",
      "\n",
      "We then upload all of the data into two easy to use Dictionaries:\n",
      "\n",
      "**feature_library** ,  which are the original sounds that we played into the speaker.\n",
      "\n",
      "**recorded_feature_library** ,  which are the rerecorded sounds."
     ]
    },
    {
     "cell_type": "code",
     "collapsed": false,
     "input": [
      "\n",
      "#Locate the directories to the raw feature and file tables saved from SAP 2011\n",
      "### THE ORIGINAL FILES\n",
      "raw_feature_table = working_directory+ \"\\\\RAW_LIB\\\\\" + \"rf_pure_play.sql\"\n",
      "raw_feature_file_table = working_directory+ \"\\\\RAW_LIB\\\\\" + \"ft_pure_play.sql\"\n",
      "### THE RE-RECORDED FILES\n",
      "played_feature_table = working_directory+ \"\\\\RAW_LIB\\\\\" + \"rf_pure_rec.sql\"\n",
      "played_feature_file_table = working_directory+ \"\\\\RAW_LIB\\\\\" + \"ft_pure_rec.sql\"\n",
      "\n",
      "#Extract the raw feature data as a dictionary\n",
      "feature_library = load_raw_library(raw_feature_table, raw_feature_file_table)\n",
      "recorded_feature_library = load_raw_library(played_feature_table, played_feature_file_table)"
     ],
     "language": "python",
     "metadata": {},
     "outputs": [],
     "prompt_number": 68
    },
    {
     "cell_type": "markdown",
     "metadata": {},
     "source": [
      "Finally, after collecting all the batch data from SAP 2011, and loading in the raw feature tables, we are ready to analyse them. \n",
      "\n",
      "\n",
      "First, the original datasets are used to create a median plot. This is done by taking the longest example, aligning all other sounds to the longest, and taking the median at each point (This creates 0's on the edges due to padding).  We then take the generated median and splice it according to the shortest, which removes these edging effects. \n",
      "\n",
      "\n",
      "Once a Median compare array is generated, all the original song examples, and all the re-recorded son examples, are aligned via amplitude (as this is the most robust of all song features for alignment), and then compared using a song feature of choice against the respective median data generated the previous step.\n",
      "\n",
      "Each sound sample is evaluated against the median according to mutual overlap after alignment via conjugate pairs in fourier space using the numpy.corrcoeff function to return a normalized covariance value, which is converted to a number between -100, and 100 %.\n",
      "\n",
      "These covariances are then plotted as a distribution in a histogram for both played and recorded sounds, and we can see by observing the distributions, any change that particular song feature has had from passing through our hardware.\n",
      "\n",
      "\n"
     ]
    },
    {
     "cell_type": "code",
     "collapsed": false,
     "input": [
      "## Heres a list of the major features, we have imported from the SAP raw features tables...\n",
      "\n",
      "feature_array = ['Goodness_of_pitch',  # 0 \n",
      "                 'Peak_frequency',   # 1 \n",
      "                 'DAS',  # 2 \n",
      "                 'AM',  # 3 \n",
      "                 'Amplitude',  # 4 \n",
      "                 'FM',  # 5 \n",
      "                 'Continuity_over_frequency',  # 6 \n",
      "                 'Continuity_over_time',  # 7 \n",
      "                 'Entropy',  # 8 \n",
      "                 'Pitch',  # 9 \n",
      "                 'Mean_frequency',  # 10 \n",
      "                 'Mean_amplitude_frequency']  # 11 \n",
      "\n",
      "# We assign which feature we wish to look at here... in this case, 1 represent Peak Frequency as seen in the above array.\n",
      "# (note this was done just so you don't have to type them out if you wan't to re-run the cell with another feature)\n",
      "feature_to_test = feature_array[10]\n",
      "\n",
      "# Here we Create the median output data, we also correlate the feature_library to it...\n",
      "output, medians_compare_point = analysis_of_song(feature_library,\n",
      "                                                 feature_of_interest = feature_to_test)\n",
      "\n",
      "# Here we correlate the recorded library to the median output that was created in the previous step.\n",
      "recorded_output, nothing = analysis_of_song(recorded_feature_library,\n",
      "                                            feature_of_interest = feature_to_test,\n",
      "                                            median_compare = medians_compare_point)\n",
      "\n",
      "# We can now use pyplot to draw out the results of our query...\n",
      "plt.plot(medians_compare_point, c= 'r', label = \"Median Compare\")\n",
      "plt.legend()\n",
      "plt.xlabel('Samples Collected @ 44100 Hz')\n",
      "plt.ylabel(feature_to_test)\n",
      "plt.title('Median plot of all sound samples,\\n represented as the song feature ' + feature_to_test +'.')\n",
      "plt.show()\n",
      "\n",
      "plt.hist(output, alpha = 0.33, color = 'b', range = (-100,100), bins = 20, label = \" Played\")\n",
      "plt.hist(recorded_output, alpha = 0.33, color = 'r', range = (-100,100), bins = 20, label = \" Recorded\")\n",
      "plt.legend()\n",
      "plt.xlabel('Normalised Covariance Coefficients %')\n",
      "plt.ylabel('No. of sound samples')\n",
      "plt.title('Distribution of Normalised Covariance Coefficients,\\n for a sample of sounds represented by their ' + feature_to_test + ',\\n when compared to median '+ feature_to_test +'.')\n",
      "plt.show()\n",
      "\n"
     ],
     "language": "python",
     "metadata": {},
     "outputs": [
      {
       "metadata": {},
       "output_type": "display_data",
       "png": "[encoded data removed]",
       "text": [
        "<matplotlib.figure.Figure at 0x23520208>"
       ]
      },
      {
       "metadata": {},
       "output_type": "display_data",
       "png": "[encoded data removed]",
       "text": [
        "<matplotlib.figure.Figure at 0x21f58358>"
       ]
      }
     ],
     "prompt_number": 415
    },
    {
     "cell_type": "code",
     "collapsed": false,
     "input": [],
     "language": "python",
     "metadata": {},
     "outputs": []
    },
    {
     "cell_type": "code",
     "collapsed": false,
     "input": [],
     "language": "python",
     "metadata": {},
     "outputs": [],
     "prompt_number": 403
    },
    {
     "cell_type": "code",
     "collapsed": false,
     "input": [],
     "language": "python",
     "metadata": {},
     "outputs": [],
     "prompt_number": 403
    },
    {
     "cell_type": "code",
     "collapsed": false,
     "input": [],
     "language": "python",
     "metadata": {},
     "outputs": [],
     "prompt_number": 403
    },
    {
     "cell_type": "code",
     "collapsed": false,
     "input": [],
     "language": "python",
     "metadata": {},
     "outputs": [],
     "prompt_number": 331
    },
    {
     "cell_type": "code",
     "collapsed": false,
     "input": [],
     "language": "python",
     "metadata": {},
     "outputs": [],
     "prompt_number": 331
    },
    {
     "cell_type": "code",
     "collapsed": false,
     "input": [],
     "language": "python",
     "metadata": {},
     "outputs": [],
     "prompt_number": 16
    },
    {
     "cell_type": "code",
     "collapsed": false,
     "input": [],
     "language": "python",
     "metadata": {},
     "outputs": [],
     "prompt_number": 16
    },
    {
     "cell_type": "code",
     "collapsed": false,
     "input": [],
     "language": "python",
     "metadata": {},
     "outputs": [],
     "prompt_number": 16
    },
    {
     "cell_type": "code",
     "collapsed": false,
     "input": [],
     "language": "python",
     "metadata": {},
     "outputs": [],
     "prompt_number": 16
    },
    {
     "cell_type": "code",
     "collapsed": false,
     "input": [],
     "language": "python",
     "metadata": {},
     "outputs": [],
     "prompt_number": 16
    },
    {
     "cell_type": "code",
     "collapsed": false,
     "input": [],
     "language": "python",
     "metadata": {},
     "outputs": [],
     "prompt_number": 19
    },
    {
     "cell_type": "code",
     "collapsed": false,
     "input": [],
     "language": "python",
     "metadata": {},
     "outputs": [],
     "prompt_number": 19
    },
    {
     "cell_type": "code",
     "collapsed": false,
     "input": [],
     "language": "python",
     "metadata": {},
     "outputs": [],
     "prompt_number": 19
    },
    {
     "cell_type": "heading",
     "level": 1,
     "metadata": {},
     "source": [
      "METHODS/DEFINITIONS BEYOND THIS POINT (Ensure to initialise them all!!!)"
     ]
    },
    {
     "cell_type": "code",
     "collapsed": false,
     "input": [
      "def iterate_through_all(wav_lib_array, window = 1024, fs = 44100):\n",
      "    \n",
      "    \"\"\"\n",
      "    This function takes the .wav data loaded from the WAV_LIB folder, and then iterates through each file,\n",
      "    playing and recording new versions of the sounds. These soudns are saved into another folder, PROCESSED_LIB.\n",
      "    \n",
      "    The sound that was just played is also saved, so that both the new files are comparable and created under the same conditions.\n",
      "    \"\"\"\n",
      "    \n",
      "    # Start on the first wav file, calculate the number of iterations\n",
      "    i = 0 \n",
      "    file_count = len(wav_data[:])\n",
      "    \n",
      "    # Iterate through each file...\n",
      "    for i in range(file_count):\n",
      "        name = wav_data[i][0] # The name of the file\n",
      "        data = wav_data[i][1] # The raw data of the file\n",
      "        \n",
      "        # Here we convert the wav files in FLOAT32 ranged from -1 to 1 for playback\n",
      "        data = pcm2float(data, dtype='float32')\n",
      "        print \" ---- ---- ---- ---- ---- ---- ---- ---- ---- ---- \"\n",
      "        print \"Playing sound, \" + name + \". File \" + str(i+1) + \"/\" + str(file_count)\n",
      "        iterate_length = (len(data)/fs) + 1\n",
      "        print \"This will take approximately \" + str(iterate_length) + \" seconds... \"\n",
      "        \n",
      "        \n",
      "        new_data = pass_through_hardware(data, fs, window) #Play the sound + record it back.\n",
      "        \n",
      "        time.sleep(2) # Sleep for 2000 milliseconds, intended to prevent anti-aliasing-like effects on recordings\n",
      "        #, and provide a short rest period..\n",
      "        \n",
      "        # Here we convert BOTH the recorded and played data back to PCM and save them.\n",
      "        # This way we keep our comparisons consistent in data-type, and they can be read by SAP 2011.\n",
      "        data = float2pcm(data, dtype = 'int16')\n",
      "        new_data = float2pcm(new_data, dtype = 'int16')\n",
      "        \n",
      "        # Write both the played file AND the recorded files, directly into the PROCESSED folder\n",
      "        wav.write(working_directory + 'PROCESSED_LIB\\\\'+name, fs, data)\n",
      "        wav.write(working_directory + 'PROCESSED_LIB\\\\recording_'+name, fs, new_data)\n",
      "        \n",
      "    print \" ---- ---- ---- ---- Finished ---- ---- ---- ---- \"\n",
      "    print \" ---- ---- ---- ---- ---- ---- ---- ---- ---- ---- \""
     ],
     "language": "python",
     "metadata": {},
     "outputs": [],
     "prompt_number": 2
    },
    {
     "cell_type": "code",
     "collapsed": false,
     "input": [
      "def import_wav_lib(directory): # input is the working directory where 'rawsong' folder is kept\n",
      "    \"\"\" This function returns the normalised amplitude data of all songs in a directory, \n",
      "    It also creates another array containing just the names of the files\n",
      "    \"\"\"\n",
      "    directory = directory + \"WAV_LIB\\\\\"\n",
      "    \n",
      "    ## This is an array of directories to the song files to be tested.\n",
      "    raw_song_dir_array  = glob.glob(directory + '*.wav')\n",
      "    ## This cycles through every wav file in the array and assigns its 'data' ( [1] is used to return amplitude data only) to song_array\n",
      "    song_array = [wav.read(n)[1] for n in raw_song_dir_array]\n",
      "        \n",
      "    raw_song_filename_array = os.listdir(directory) #The name of the files  \n",
      "    \n",
      "    # We now restructure the two arrays into one dictionary-like array for easy use.\n",
      "    new_array = (zip(raw_song_filename_array,song_array))\n",
      "    \n",
      "    return new_array\n"
     ],
     "language": "python",
     "metadata": {},
     "outputs": [],
     "prompt_number": 3
    },
    {
     "cell_type": "code",
     "collapsed": false,
     "input": [
      "def import_raw_lib(directory): # input is the working directory where 'rawsong' folder is kept\n",
      "    \"\"\" \n",
      "    This function takes the output from SAP2011, \n",
      "    This output is expected to have two qualities,\n",
      "    A raw feature .xml file comes in the pair , name_play.xml and name_rec.xml\n",
      "    All pairs have to exist, else the resulting arrays wont be aligned in pairs.\n",
      "    \n",
      "    I may make another method to double check the names match at the start of these\n",
      "    two outputs, just to ensure that this mismatching pair problem, which\n",
      "    could occur to human error, doesn't get lost in the code. \n",
      "    \n",
      "    \"\"\"\n",
      "    directory = directory + \"RAW_LIB\\\\\"\n",
      "    \n",
      "    ## This is an array of directories to the song files to be tested.\n",
      "    raw_feature_dir_array_play  = glob.glob(directory + '*_play.xml')\n",
      "    raw_feature_dir_array_rec  = glob.glob(directory + '*_rec.xml')\n",
      "    \n",
      "    ## This cycles through every raw file in the above array, and extracts its features.\n",
      "    feature_array_play = [extract_raw_features(n) for n in raw_feature_dir_array_play]\n",
      "    feature_array_rec = [extract_raw_features(n) for n in raw_feature_dir_array_rec]\n",
      "    \n",
      "    # Listdir doesn't allow use of wildcards,  so becuase we are splitting this folder into _play and _rec files, \n",
      "    # and I'm too lazy to make two folders, we're gonna do this instead to get the names of the files only using \n",
      "    # Glob.glob from earlier.: \n",
      "    feature_filename_array_play= [n.rsplit('\\\\')[-1] for n in raw_feature_dir_array_play]\n",
      "    feature_filename_array_rec= [n.rsplit('\\\\')[-1] for n in raw_feature_dir_array_rec]\n",
      "    \n",
      "    # We now restructure the two arrays into one dictionary-like array for easy use.\n",
      "    new_array_play = (zip(feature_filename_array_play,feature_array_play))\n",
      "    new_array_rec = (zip(feature_filename_array_rec,feature_array_rec))\n",
      "    \n",
      "    return new_array_play, new_array_rec"
     ],
     "language": "python",
     "metadata": {},
     "outputs": [],
     "prompt_number": 4
    },
    {
     "cell_type": "code",
     "collapsed": false,
     "input": [
      "def update_wav_lib(working_directory):\n",
      "    \n",
      "    \"\"\" \n",
      "    This method simply creates some of the sounds necessary for our analysis and saves them into the WAV_LIB folder for\n",
      "    later use. It will not create examples of Song, These will need to be added to the WAV_LIB folder at the users descretion\n",
      "    if they are to be used by the program for playback.\n",
      "    \n",
      "    This Only needs to be run a single time to create the appropraite .wav files. \n",
      "    Can be re-run if there is a problem with these / they need updating\n",
      "    \n",
      "    NOTE. ALL the files are saved as PCM.\n",
      "    \n",
      "    \"\"\"\n",
      "##############################################\n",
      "    fs = 44100\n",
      "    # Creates a pure tone at Middle C = 261.6 Hz (C4)\n",
      "    t = np.r_[0:int(fs*10):1] / float(fs)\n",
      "    fn = 0.2616e3 #middle C\n",
      "    puretone = np.sin(2 * np.pi * t * fn)/2.0 # Makes the sin at 0.5% power \n",
      "    # Converts to PCM\n",
      "    puretone = float2pcm(puretone, dtype ='int16')\n",
      "    # Writes to wav file.\n",
      "    wav.write(working_directory + 'WAV_LIB\\\\puretoneC.wav',fs, puretone)\n",
      "##############################################\n",
      "\n",
      "    # Creates a scale\n",
      "    t = np.r_[0:int(fs/5):1] / float(fs)\n",
      "    \n",
      "    \n",
      "    fnarray = [130.8,138.6,146.8,155.6,164.8,174.6,185,196,207.7,220,233.1,246.9,\n",
      "                261.6,277.2,293.7,311.1,329.6,349.2,370,392,415.3,440,466.2,493.9,\n",
      "                523.3,554.4,587.3,622.3,659.3,698.5,740,784,830.6,880,932.3,987.8,\n",
      "                1047,1109,1175,1245,1319,1397,1480,1568,1661,1760,1865,1976,\n",
      "                2093,2217,2349,2489,2637,2794,2960,3136,3322,3520,3729,3951,\n",
      "                4186] #Starts C3  Ends C8\n",
      "\n",
      "    puretone = np.sin(2 * np.pi * t * fnarray[0])/2.0\n",
      "    \n",
      "    for n in range(len(fnarray)):\n",
      "        fn = fnarray[n]\n",
      "        puretone = np.append(puretone,np.sin(2 * np.pi * t * fn)/2.0) # Makes the sin at 0.5% power \n",
      "    # Converts to PCM\n",
      "    puretone = float2pcm(puretone, dtype ='int16')\n",
      "    # Writes to wav file.\n",
      "    wav.write(working_directory + 'WAV_LIB\\\\scales.wav',fs, puretone)\n",
      "##############################################\n",
      "\n",
      "    # Creates a pure tone @ 6000 Hz \n",
      "    t = np.r_[0:int(fs*10):1] / float(fs)\n",
      "    fn = 4000\n",
      "    puretone = np.sin(2 * np.pi * t * fn)/2.0 # Makes the sin at 0.5% power \n",
      "    # Converts to PCM\n",
      "    puretone = float2pcm(puretone, dtype ='int16')\n",
      "    # Writes to wav file.\n",
      "    wav.write(working_directory + 'WAV_LIB\\\\puretone4000.wav',fs, puretone)\n",
      "##############################################\n",
      "\n",
      "    # Creates ascending tone    \n",
      "    time_series = np.linspace(0, 10, 44100*10)\n",
      "    ascendingtone = signal.chirp(time_series, f0=20.0, f1=20000.0, t1=10, method = 'linear')\n",
      "    ascendingtone = float2pcm(ascendingtone, dtype ='int16')\n",
      "    wav.write(working_directory + 'WAV_LIB\\\\ascendingtone.wav',fs, ascendingtone)\n",
      "##############################################\n",
      "\n",
      "    # Creates Noise (5 seconds)\n",
      "    # values of 0.005 - 0.0005 are typically good values, the higher this value , the more noise.\n",
      "    noise = np.random.normal(0,0.05,fs * 5)/10\n",
      "    noise = float2pcm(noise, dtype ='int16')\n",
      "    wav.write(working_directory + 'WAV_LIB\\\\noise.wav',fs, noise)\n",
      "##############################################\n",
      "\n",
      "    # Take the fullbout of song, and add noise, save into Wav files.\n",
      "    fs , wav_data_raw = wav.read(working_directory + 'WAV_LIB\\\\songbout.wav')\n",
      "    wav_data = np.array(wav_data_raw, dtype=np.float32)\n",
      "    wav_data /= 2**15\n",
      "    \n",
      "    noise = np.random.normal(0,0.0005,len(wav_data))\n",
      "    noise_x2 = np.random.normal(0,0.001,len(wav_data))\n",
      "    noise_x10 = np.random.normal(0,0.005,len(wav_data))\n",
      "    noise_x20 = np.random.normal(0,0.01,len(wav_data))\n",
      "\n",
      "    wav_data = wav_data + noise\n",
      "    wav_data_x2 = wav_data + noise_x2\n",
      "    wav_data_x10 = wav_data + noise_x10\n",
      "    wav_data_x20 = wav_data + noise_x20\n",
      "    \n",
      "    wav_data = float2pcm(wav_data, dtype ='int16')\n",
      "    wav_data_x2 = float2pcm(wav_data_x2, dtype ='int16')\n",
      "    wav_data_x10 = float2pcm(wav_data_x10, dtype ='int16')\n",
      "    wav_data_x20 = float2pcm(wav_data_x20, dtype ='int16')\n",
      "\n",
      "    wav.write(working_directory + 'WAV_LIB\\\\songbout_noisex01.wav',fs, wav_data)\n",
      "    wav.write(working_directory + 'WAV_LIB\\\\songbout_noisex02.wav',fs, wav_data_x2)\n",
      "    wav.write(working_directory + 'WAV_LIB\\\\songbout_noisex10.wav',fs, wav_data_x10)\n",
      "    wav.write(working_directory + 'WAV_LIB\\\\songbout_noisex20.wav',fs, wav_data_x20)\n"
     ],
     "language": "python",
     "metadata": {},
     "outputs": [],
     "prompt_number": 5
    },
    {
     "cell_type": "code",
     "collapsed": false,
     "input": [
      "def pass_through_hardware(sound, fs = 44100, window = 1024):\n",
      "    \"\"\"\n",
      "    This definition is designed to take the sound (formated as a single dimensional numpy array) as \n",
      "    a first argument, and play it through the default audio device,\n",
      "    while simultaneously recording from the default recording device. \n",
      "\n",
      "    The second argument is the sample rate of the sound, defaults to 44100 Hz\n",
      "    \n",
      "    This returns the raw trace of the output/input recording.\n",
      "    \n",
      "    window defaults to 1024, to reduce the lag in playback, this should be shorter, such as 32.\n",
      "    Playback can handle a windowsize of 1\n",
      "    Recording prefers at least a windowsize of 16\n",
      "    \"\"\"\n",
      "    block_length = window # The size of the sound blocks to be passed to the audio streamer\n",
      "    output_wav = np.array(1) #Create an empty number array, this will be appended to with the microphone inputs\n",
      "\n",
      "    # Create the stream instance (An object representing the sound card), and start it.\n",
      "    s = Stream(sample_rate=fs, block_length=block_length)\n",
      "    s.start()\n",
      "    \n",
      "    #Iterate over the length of the sound to be played with the block size,\n",
      "    for i in range(len(sound)/block_length):\n",
      "        # Note the read() and write() functions do not return until the full acquisition or playback is complete\n",
      "        # This may have led to an issue of recording happening in moments of silence where the playback is complete.\n",
      "        # This is the likely reason as to why the recordings are slightly offset to the playbacks. Interestingly,\n",
      "        # The recordings are AHEAD of the playback.. caputuring extra information before playback had started,\n",
      "        # Additionally , the recording is slightly shorter in total, indicating the possibility of cutting off\n",
      "        # and not capturing the final moments of the playback. It is likely I will need to incorpate extra lengths of\n",
      "        # Recording to ensure that the entire playback is captured everytime, with overlap.\n",
      "        # NOTE, by decreasing the window, we see this effect diminish, which is expected but also impies\n",
      "        # It is possible this effect is due to the time taken to 'play' the sound, seeming as recording \n",
      "        # appears to start before the actual playback. Thus the larger the window of data sent to the\n",
      "        # Stream (soundcard) the longer it will take to process and play.\n",
      "                \n",
      "        # PLAYBACK the next block of sound\n",
      "        block_to_write = sound[i*block_length:i*block_length+block_length]\n",
      "        s.write(block_to_write)\n",
      "        \n",
      "        # RECORD the next block of sound. Append to new Numpy array.\n",
      "        new_block = s.read(block_length)[:,0]\n",
      "        output_wav = np.append(output_wav, new_block)\n",
      "  \n",
      "    # Record the next 0.5s of sound (This is handy for addressing the possible undershoot recording problem discussed above)\n",
      "    new_block = s.read(22050)[:,0]\n",
      "    output_wav = np.append(output_wav, new_block)\n",
      "    \n",
      "    #Stop the stream\n",
      "    s.stop()\n",
      "    \n",
      "    # Return the microphones experiences during sound playback.\n",
      "    return output_wav"
     ],
     "language": "python",
     "metadata": {},
     "outputs": [],
     "prompt_number": 6
    },
    {
     "cell_type": "code",
     "collapsed": false,
     "input": [
      "def quick_play(sound, fs = 44100):\n",
      "    \"\"\"\n",
      "    Helper routine during testing to quickly play a numpy array of data to listen to it.\n",
      "    \"\"\"\n",
      "    block_length = 32 # The size of the sound blocks to be passed to the audio streamer\n",
      "    s = Stream(sample_rate=fs, block_length=block_length)\n",
      "    s.start()\n",
      "\n",
      "    #Iterate over the length of the sound to be played with the block size,\n",
      "    for i in range(len(sound)/block_length):\n",
      "        # Play the next block of sound\n",
      "        s.write(sound[i*block_length:i*block_length+block_length])\n",
      "        # Record the next block of sound.\n",
      "        # Prints the time every ~ second , changing block length will cause issues with this due to dtypes.\n",
      "        # Only included at this time to show progress.\n",
      "        if (i%(fs/block_length) == 0):\n",
      "            print (i*1.00/fs)*block_length \n",
      "    \n",
      "    #Stop the stream\n",
      "    s.stop()\n"
     ],
     "language": "python",
     "metadata": {},
     "outputs": [],
     "prompt_number": 7
    },
    {
     "cell_type": "code",
     "collapsed": false,
     "input": [
      "def extract_raw_features(input_file):\n",
      "    \n",
      "    \"\"\"\n",
      "    !!!! SOON TO BE REDUNDANT, REPLACE WITH RAW_FEATURES_TABLE_READER !!!!\n",
      "    \n",
      "    This method accepts the directory to a .xml file generated by SAP-2011 that contains the raw features\n",
      "    of the selected sound from the program. It Extracts the meaningful song feature information from \n",
      "    that file, and returns it as a neat dictionary, filled with vectors over time of each song feature,\n",
      "    all appropraitely labelled.\n",
      "    \n",
      "    Note this has been specialised for SAP-2011 .xml files generated in this way. Hence some Hard coding.\n",
      "    \n",
      "    Another option would be to make raw_feature_tables using the batching algirithms within SAP 2011.\n",
      "    These however only carry integer values according to alex, and also I would have to segregate out the \n",
      "    wav files within the table, thus I will manually create the raw data using SAP for every wav file.\n",
      "    \"\"\"\n",
      "\n",
      "    import xml.etree.ElementTree as ET\n",
      "    tree = ET.parse(input_file)\n",
      "    root = tree.getroot()\n",
      "\n",
      "    array_of_all_features = []    \n",
      "    headings_array=[-1] # headings array is added by 1, on purpose. First value is not used.\n",
      "    \n",
      "    # Create an array size to iterate over for each heading. \n",
      "    # Headings are as follows: (from 0 to 13) 'Time', 'Amplitude', 'Pitch',\n",
      "    # 'Mean_frequency', 'Peak_frequency', 'Goodness_of_pitch', 'FM', 'AM', 'Wiener_entropy',\n",
      "    # NOTE: Headings past wiener entropy are disused, and have nul values.\n",
      "    # 'Continuity_time', 'Continuity_freq', 'Duration_of_state', 'currStartLocation'\n",
      "    \n",
      "    for cells in root.iter('colname'):\n",
      "        headings_array.append(int(cells.attrib['ix']))\n",
      "\n",
      "    for i in headings_array:\n",
      "        new_feature_vector = []\n",
      "        for cells in root.iter('cell'):\n",
      "            if headings_array[int(cells.attrib['ix'])] == i:\n",
      "                new_feature_vector.append(float(cells.text))\n",
      "    \n",
      "        array_of_all_features.append(new_feature_vector)\n",
      "\n",
      "    new_dict = {'Time' : array_of_all_features[1],\n",
      "                'Amplitude' : array_of_all_features[2] ,\n",
      "                'Pitch' : array_of_all_features[3] ,\n",
      "                'Mean_frequency' : array_of_all_features[4],  \n",
      "                'Peak_frequency' : array_of_all_features[5],\n",
      "                'Goodness_of_pitch' : array_of_all_features[6],\n",
      "                # x10 to correct decoded units into originals: 0 - 90 degrees \n",
      "                'FM' : array_of_all_features[7] * 10 ,\n",
      "                # x100 to correct into decoded units into originals: 1/t \n",
      "                'AM' : array_of_all_features[8]*100,\n",
      "                # x100 to correct into decoded scale into original scale\n",
      "                'Wiener_entropy' : array_of_all_features[9]*100}\n",
      "    \n",
      "    return new_dict"
     ],
     "language": "python",
     "metadata": {},
     "outputs": [],
     "prompt_number": 8
    },
    {
     "cell_type": "code",
     "collapsed": false,
     "input": [
      "\"\"\"\n",
      "We've got this from audio processing github repo, handy for making conversions between datatypes.\n",
      "\n",
      "https://github.com/mgeier/python-audio/blob/master/audio-files/utility.py\n",
      "\n",
      "\"\"\"\n",
      "\n",
      "import numpy as np\n",
      "import contextlib\n",
      "\n",
      "def float2pcm(sig, dtype='int16'):\n",
      "    \"\"\"Convert floating point signal with a range from -1 to 1 to PCM.\n",
      "    Parameters\n",
      "    ----------\n",
      "    sig : array_like\n",
      "        Input array, must have floating point type.\n",
      "    dtype : data type, optional\n",
      "        Desired (integer) data type.\n",
      "    Returns\n",
      "    -------\n",
      "    ndarray\n",
      "        integer data.\n",
      "    See Also\n",
      "    --------\n",
      "    pcm2float, dtype\n",
      "    \"\"\"\n",
      "    # TODO: allow unsigned (e.g. 8-bit) data\n",
      "\n",
      "    sig = np.asarray(sig)\n",
      "    if sig.dtype.kind != 'f':\n",
      "        raise TypeError(\"'sig' must be a float array\")\n",
      "    dtype = np.dtype(dtype)\n",
      "    if dtype.kind != 'i':\n",
      "        raise TypeError(\"'dtype' must be signed integer type\")\n",
      "\n",
      "    return (sig * np.iinfo(dtype).max).astype(dtype)\n",
      "\n",
      "def pcm2float(sig, dtype='float64'):\n",
      "    \"\"\"Convert PCM signal to floating point with a range from -1 to 1.\n",
      "    Use dtype='float32' for single precision.\n",
      "    Parameters\n",
      "    ----------\n",
      "    sig : array_like\n",
      "        Input array, must have (signed) integral type.\n",
      "    dtype : data type, optional\n",
      "        Desired (floating point) data type.\n",
      "    Returns\n",
      "    -------\n",
      "    ndarray\n",
      "        normalized floating point data.\n",
      "    See Also\n",
      "    --------\n",
      "    float2pcm, dtype\n",
      "    \"\"\"\n",
      "    # TODO: allow unsigned (e.g. 8-bit) data\n",
      "\n",
      "    sig = np.asarray(sig)\n",
      "    if sig.dtype.kind != 'i':\n",
      "        raise TypeError(\"'sig' must be an array of signed integers\")\n",
      "    dtype = np.dtype(dtype)\n",
      "    if dtype.kind != 'f':\n",
      "        raise TypeError(\"'dtype' must be floating point type\")\n",
      "\n",
      "    # Note that 'min' has a greater (by 1) absolute value than 'max'!\n",
      "    # Therefore, we use '-min' here to avoid clipping.\n",
      "    return sig.astype(dtype) / dtype.type(-np.iinfo(sig.dtype).min)"
     ],
     "language": "python",
     "metadata": {},
     "outputs": [],
     "prompt_number": 9
    },
    {
     "cell_type": "code",
     "collapsed": false,
     "input": [
      "def create_comparison_arrays(array1,array2, draw = \"no\", force_align = 0, force_size = False):\n",
      "    \"\"\"The purpose of this function is to take two arrays, padd them to the same size, \n",
      "    find the point of highest similarity using conjugates in the Fourier plane, \n",
      "    and then offset these padded arrays by an amount to create two comparable datasets at a point of highest similarity.\n",
      "    \n",
      "    Additionally the user can pass force_align with a sample value, to manually assign an alignment.\n",
      "    An alignment of 0 will re-calculate a new best alignment and apply it.\n",
      "    \n",
      "    UPDATED VERSION:\n",
      "    Will expected Array1 to be the largest example of ALL array2 IFF force_size == TRUE\n",
      "    \"\"\"    \n",
      "    #sizes and calculate the padding value\n",
      "    size1 = len(array1)\n",
      "    size2 = len(array2)\n",
      "    \n",
      "    if size1 < size2 and force_size == True:\n",
      "        print \"Error, first array is not larger than the second!\"\n",
      "    \n",
      "    #store original sizes of real data for future use after padding occurs.\n",
      "    orig_size1 = size1\n",
      "    orig_size2 = size2\n",
      "        \n",
      "    # Calculate padding necesarry to make size2.len = size1.len\n",
      "    padding_value = abs( size1 - size2 )\n",
      "   \n",
      "    #pad the smallest array's end to be the same size as the larger.\n",
      "    #print \"Padding by difference between sizes: \" + str(padding_value)\n",
      "    if size1<size2:\n",
      "        array1 = np.pad(array1, (0,padding_value), mode = 'constant', constant_values = 0)\n",
      "    if size2<size1:\n",
      "        array2 = np.pad(array2, (0,padding_value), mode = 'constant', constant_values = 0)\n",
      "\n",
      "    # To check lengths are the same still, and update to new values.\n",
      "    size1 = len(array1)\n",
      "    size2 = len(array2)\n",
      "    if size1 != size2:\n",
      "        #print \"Difference between shapes is, \" + str(size1) + \" and \" + str(size2) + \".\" \n",
      "        print \"Error, the two arrays failed to pad properly.\"\n",
      "    \n",
      "    ## Here we check, have we been provided with alignment? If no, then calculate one...\n",
      "    if force_align == 0 : \n",
      "        ## Calculate a new offset using FFT\n",
      "        A = fftpack.fft(array1)\n",
      "        B = fftpack.fft(array2)\n",
      "        Ar = -A.conjugate()\n",
      "        Br = -B.conjugate()\n",
      "        offset1test = np.argmax(np.abs(fftpack.ifft(Ar*B)))\n",
      "        offset2test = np.argmax(np.abs(fftpack.ifft(A*Br))) ## This is simply the overshoot of offset1 past the length of the array2\n",
      "    \n",
      "    ## Depending on which offset is shorter, depends on which way to move the arrays relative to each other to achieve maximum correlation.\n",
      "        if offset1test < offset2test:\n",
      "            offset1 = offset1test\n",
      "            offset2 = 0\n",
      "        else:\n",
      "            offset1 = 0\n",
      "            offset2 = offset2test\n",
      "        \n",
      "    ## Pad by the offset calculated by the correlation onto the end of the first array, and onto the beginning of the second.\n",
      "    ## This has been switched to ensure that the offset is only every applied to the second array, keeping the first array unchanged\n",
      "        array1 = np.pad(array1, (int(offset1),int(offset2)), mode = 'constant', constant_values = 0)\n",
      "        array2 = np.pad(array2, (int(offset2),int(offset1)), mode = 'constant', constant_values = 0)\n",
      "        \n",
      "    ## If we have been given an offset to use instead of calculating, use that offset instead of going through calculating our own.\n",
      "    else:\n",
      "        offset1 = 0\n",
      "        offset2 = 0\n",
      "        if force_align > 0:\n",
      "            offset1 = force_align\n",
      "        else:\n",
      "            force_align < 0\n",
      "            offset2 = abs(force_align)\n",
      "        \n",
      "        array1 = np.pad(array1, (int(offset1),int(offset2)), mode = 'constant', constant_values = 0)\n",
      "        array2 = np.pad(array2, (int(offset2),int(offset1)), mode = 'constant', constant_values = 0)\n",
      "        \n",
      "    # Calculate the points of overlap between the two original arrays, these will be used to clip excess padding.\n",
      "    point1 = offset1 + offset2\n",
      "    point2 = min(offset1 + orig_size1, offset2 + orig_size2)\n",
      "    \n",
      "    ## Here we force the size of the finished arrays to be according to the first. No matter how padding went...\n",
      "    ## This is usefull for when you want to compare many arrays to a single array without loosing the \n",
      "    ## Comparisons between trials...\n",
      "    if force_size == True:\n",
      "        point1 = offset1\n",
      "        point2 = offset1 + orig_size1\n",
      "        \n",
      "    \n",
      "    # If draw is yes, then draw the plots to visualise what has occured...\n",
      "    if draw == 'yes':\n",
      "        plt.figure(1)\n",
      "        plt.xlabel('Time')\n",
      "        plt.ylabel('Frequency')\n",
      "        plt.subplot(211)\n",
      "        plt.plot(array1)\n",
      "        plt.axvline((point1+1), linewidth=2, color='r')\n",
      "        plt.axvline((point2-1), linewidth=2, color='r')\n",
      "        plt.subplot(212)\n",
      "        plt.plot(array2)\n",
      "        plt.axvline((point1+1), linewidth=2, color='r')\n",
      "        plt.axvline((point2-1), linewidth=2, color='r')\n",
      "        plt.show()\n",
      "    \n",
      "    comparearray1 = array1[point1:point2]\n",
      "    comparearray2 = array2[point1:point2]\n",
      "\n",
      "    # Return only the maximum overlap of the two arrays at the maximum correlation point offset.\n",
      "    # If force_size = TRUE, will return the size of Array1, from the start of Array1\n",
      "    return comparearray1, comparearray2, offset1-offset2"
     ],
     "language": "python",
     "metadata": {},
     "outputs": [],
     "prompt_number": 313
    },
    {
     "cell_type": "code",
     "collapsed": false,
     "input": [
      "def load_raw_library(raw_data_table, file_table):\n",
      "    \"\"\"\n",
      "    This function will take the directory of a raw features table, generated by SAP2011, and its corresponding file_table, \n",
      "    also generated in SAP2011, and converts them into the fantastic dictionary format where dictionary[filename][songfeature]\n",
      "    will return the associated data from the raw feature table.\n",
      "    \"\"\"\n",
      "    ####################### STEP 1, extract all raw data from all the files ######################\n",
      "    # Open the raw data table,\n",
      "    raw = open(raw_data_table)\n",
      "    raw = raw.read()\n",
      "    # TAKE THE DATA FILE AND REPLACE THE FOLLOWING WITH ','\n",
      "    raw = raw.replace('(','')\n",
      "    raw = raw.replace(')','')\n",
      "    raw = raw.replace(' ','')\n",
      "    raw = raw.replace('\\n',',')\n",
      "    raw = raw.replace(';',',')\n",
      "    # SPLIT BY ','\n",
      "    raw = raw.split(',')\n",
      "    # FORM A NEW ARRAY, CAPTURE ONLY THE DATA (Ints) IN NEW ARRAY\n",
      "    new_array = []\n",
      "    for n in range(len(raw)):\n",
      "        try:\n",
      "            x = int(raw[n])\n",
      "        except ValueError:\n",
      "            ()#print \"Found non-int at position ... \" + str(n)\n",
      "        else:\n",
      "            new_array[n:len(new_array)] = [x]\n",
      "    # Reshape into columns of song features.\n",
      "    processed =  np.reshape(new_array,(len(new_array)/14, 14))\n",
      "    \n",
      "    ############### STEP 2, extract file names, and assign to file dictionaries #################\n",
      "    # Extract the file CSV and alter.\n",
      "    raw_files = open(file_table)\n",
      "    files = raw_files.read()\n",
      "    # TAKE THE DATA FILE AND REPLACE THE FOLLOWING WITH ','\n",
      "    files = files.replace('(','')\n",
      "    files = files.replace(')','')\n",
      "    files = files.replace(' ','')\n",
      "    files = files.replace('\\n',',')\n",
      "    files = files.replace(';',',')\n",
      "    files = files.replace('\\'','')\n",
      "    # SPLIT BY ','\n",
      "    files = files.split(',')\n",
      "\n",
      "    # Extract file name and ID info:\n",
      "    new_array = []\n",
      "    for n in range(len(files)):\n",
      "        try:\n",
      "            x = int(files[n])\n",
      "            y = files[n+1]\n",
      "        except ValueError:\n",
      "            ()#print \"Found non-int at position ... \" + str(n)\n",
      "        else:\n",
      "            new_array[n:len(new_array)] = [x]\n",
      "            new_array[n:len(new_array)] = [y]\n",
      "    file_array =  np.reshape(new_array,(len(new_array)/4, 4))[:,:2]\n",
      "\n",
      "\n",
      "    new_array = []\n",
      "    for x in range(len(file_array)):\n",
      "        #Obtain file ID and name for first file.\n",
      "        file_id = int(file_array[x,0])\n",
      "        file_name = file_array[x,1] # This has become redundant.\n",
      "    \n",
      "        # Return those data-points in the processed array which match the file ID.\n",
      "        new_data = processed[np.where(file_id == processed[:,1]),2:][0]\n",
      "        # Reconstruct into an array of dictionaries of song feature, in an array of song files\n",
      "        new_dict = {\"Amplitude\": new_data[:,0], # Db\n",
      "                \"Mean_amplitude_frequency\": new_data[:,1],  # Db\n",
      "                \"Pitch\": new_data[:,2],  # Hz\n",
      "                \"Mean_frequency\": new_data[:,3], # Hz\n",
      "                \"FM\": new_data[:,4] * 0.1, # Divide by 10 to turn into Degrees 0-90\n",
      "                \"AM\": new_data[:,5] * 0.01, # Divide by 100 to make 1/t\n",
      "                \"Goodness_of_pitch\": new_data[:,6], # nil units\n",
      "                \"Entropy\": new_data[:,7]*0.01, # Divide by 100 , no units\n",
      "                \"Peak_frequency\": new_data[:,8], # Hz\n",
      "                \"DAS\": new_data[:,9], # ms\n",
      "                \"Continuity_over_time\": new_data[:,10]*100.0, # Times by 100 to make ms\n",
      "                \"Continuity_over_frequency\": new_data[:,11]*0.01,  # Divide by 100 to make Hz\n",
      "                }\n",
      "        # Append the latest dictionary to the song file list\n",
      "        new_array = np.append(new_array, new_dict)\n",
      "    \n",
      "    # Re-assign out the array of song file song feature dictionaries into a final array\n",
      "    final_array = new_array\n",
      "    # Create the final dictionary\n",
      "    file_dict = {file_array[n,1]: final_array[n] for n in range(len(file_array))}\n",
      "\n",
      "    return file_dict\n"
     ],
     "language": "python",
     "metadata": {},
     "outputs": [],
     "prompt_number": 257
    },
    {
     "cell_type": "code",
     "collapsed": false,
     "input": [
      "def add_percent_bar():\n",
      "    sys.stdout.write('\u2588') #<-- progress bar meat\n",
      "    sys.stdout.flush()"
     ],
     "language": "python",
     "metadata": {},
     "outputs": [],
     "prompt_number": 12
    },
    {
     "cell_type": "code",
     "collapsed": false,
     "input": [
      "def quick_view_sound(sound_data, pcm = False, Fs = 44100):\n",
      "    \"\"\" Helper function to aid in testing, give it the sound (if pcm, set pcm to True) , and it will quickly \n",
      "    draw a spectrogram and raw trace within the same plot size to get a quick idea of what the sound is without having\n",
      "    to play it.\n",
      "    \"\"\"\n",
      "    if pcm == True:\n",
      "        sound_data = pcm2float(sound_data, dtype = 'float32')\n",
      "        \n",
      "    plt.figure(1)\n",
      "    plt.xlabel('Time')\n",
      "    plt.ylabel('Amplitude')\n",
      "    plt.subplot(211)\n",
      "    plt.plot(sound_data, c= 'r')\n",
      "    \n",
      "    plt.xlabel('Time')\n",
      "    plt.ylabel('Frequency')\n",
      "    plt.subplot(212)\n",
      "    plt.specgram(sound_data, NFFT = 512, Fs = Fs)\n",
      "    plt.show()"
     ],
     "language": "python",
     "metadata": {},
     "outputs": [],
     "prompt_number": 13
    },
    {
     "cell_type": "code",
     "collapsed": false,
     "input": [
      "def analysis_of_song(feature_library,feature_of_interest = 'Amplitude', median_compare = [-1]):\n",
      "    \n",
      "    ## If an array is not provided, a median array of the feature is created...\n",
      "    if median_compare[0] == -1 :\n",
      "        \n",
      "        # We start by aligning all sound samples by amplitude to the Largest array...\n",
      "        # Find the largest array... and the smallest...\n",
      "        maximum = feature_library.keys()[0]\n",
      "        minimum = feature_library.keys()[0]\n",
      "        for n in feature_library.keys():\n",
      "            new = len(feature_library[n]['Amplitude'])\n",
      "            old_max = len(feature_library[maximum]['Amplitude'])\n",
      "            old_min = len(feature_library[minimum]['Amplitude'])\n",
      "            if new > old_max:\n",
      "                maximum = n    \n",
      "            if new < old_min:\n",
      "                minimum = n  \n",
      "        \n",
      "        # Now create a dataset of comparable, aligned datasets, relative to the longest sound...\n",
      "        array_of_compares = []\n",
      "        # Create Alignment using amplitude\n",
      "        for file_name in feature_library.keys():\n",
      "            array_first, array_rec, alignment = create_comparison_arrays(\n",
      "                                        feature_library[maximum]['Amplitude'],\n",
      "                                        feature_library[file_name]['Amplitude'],\n",
      "                                        draw = \"no\",\n",
      "                                        force_align = 0,\n",
      "                                        force_size = True # We force size to the 1st array, to maintain comparability\n",
      "                                        )\n",
      "            \n",
      "        # We then create the arrays of the feature of interest according to that alignment\n",
      "            array_first, array_rec, alignment = create_comparison_arrays(\n",
      "                                        feature_library[maximum][feature_of_interest],\n",
      "                                        feature_library[file_name][feature_of_interest],\n",
      "                                        draw = \"no\",\n",
      "                                        force_align = alignment,\n",
      "                                        force_size = True # We force size to the 1st array, to maintain comparability\n",
      "                                        )\n",
      "        # Now we add the aligned array to our new alighned dataset...\n",
      "            array_of_compares.append(array_rec)            \n",
      "\n",
      "        # Now we take the median of every position...\n",
      "        array_of_medians = []\n",
      "        for n in range(len(array_of_compares[0])): # For each sample of the length of sound, n\n",
      "            medians_to_add = []\n",
      "            for nn in range(len(array_of_compares)): # Go through each array and add the the associated value at n to our array\n",
      "                nth_value = array_of_compares[nn][n]\n",
      "                medians_to_add.append(nth_value)\n",
      "            # Find the median of this nth position\n",
      "            median = np.median(medians_to_add)\n",
      "            # append it to our final array\n",
      "            array_of_medians = np.append(array_of_medians,median)\n",
      "            \n",
      "        ## Finally, to finish our median array , we align it to the smallest, and remove the extra bits, thus making the median\n",
      "        ## array the smallest size. This is done to prevent 0's and poor padding effects.\n",
      "        median_compare, nothing, alignment = create_comparison_arrays(\n",
      "                                                            array_of_medians,\n",
      "                                                            feature_library[minimum][feature_of_interest],\n",
      "                                                            draw = 'no',\n",
      "                                                            )\n",
      "    else:\n",
      "        array_of_medians = -1\n",
      "    \n",
      "    ## Now that we have a median dataset, we can not only return this, \n",
      "    ## but also use it to calculate % co-effs with the data provided\n",
      "    ## A new offset has to be calculated for each however...\n",
      "    \n",
      "    ## IF A median dataset was already provided, the above steps were skipped....\n",
      "    \n",
      "    array_of_percents = []\n",
      "    for file_name in feature_library.keys():\n",
      "        \n",
      "        array_first, array_rec, alignment = create_comparison_arrays(\n",
      "                                            median_compare,\n",
      "                                            feature_library[file_name]['Amplitude'],\n",
      "                                            draw = \"no\",\n",
      "                                            force_align = 0,\n",
      "                                            force_size = False # This doesn't matter anymore.\n",
      "                                            )\n",
      "        array_first, array_rec, alignment = create_comparison_arrays(\n",
      "                                            median_compare,\n",
      "                                            feature_library[file_name][feature_of_interest],\n",
      "                                            draw = \"no\",\n",
      "                                            force_align = alignment,\n",
      "                                            force_size = False # This doesn't matter anymore.\n",
      "                                            )\n",
      "        \n",
      "        # Calculate the np.corcoeff , pearsons co-efficient...\n",
      "        a = int(np.corrcoef(array_first,array_rec)[0,1]*1000)/10.0 \n",
      "        array_of_percents.append(a)\n",
      "    \n",
      "    return array_of_percents, median_compare\n",
      "                "
     ],
     "language": "python",
     "metadata": {},
     "outputs": [],
     "prompt_number": 361
    },
    {
     "cell_type": "code",
     "collapsed": false,
     "input": [],
     "language": "python",
     "metadata": {},
     "outputs": [],
     "prompt_number": 13
    },
    {
     "cell_type": "heading",
     "level": 2,
     "metadata": {},
     "source": [
      "IGNORE CELLS BELOW HERE , AS ALL ARE FOR TESTING / CONSTRUCTION ONLY.... ..... ..... most of this is redundant garbage and I should really just delete it...\n"
     ]
    },
    {
     "cell_type": "code",
     "collapsed": false,
     "input": [
      "quickdir = \"C:\\\\Users\\\\mbar372\\\\Documents\\\\testing\\\\\"\n",
      "raw = quickdir + \"WAV_LIB_RAW.csv\"\n",
      "titles = quickdir + \"WAV_LIB_RAW_FILES.csv\"\n",
      "\n",
      "raw_library = load_raw_library(raw,titles)\n",
      "\n"
     ],
     "language": "python",
     "metadata": {},
     "outputs": [],
     "prompt_number": 14
    },
    {
     "cell_type": "code",
     "collapsed": false,
     "input": [
      "for file_name in raw_library:\n",
      "    for feature_name in raw_library[file_name]:\n",
      "        print feature_name"
     ],
     "language": "python",
     "metadata": {},
     "outputs": [
      {
       "ename": "NameError",
       "evalue": "name 'raw_library' is not defined",
       "output_type": "pyerr",
       "traceback": [
        "\u001b[1;31m---------------------------------------------------------------------------\u001b[0m\n\u001b[1;31mNameError\u001b[0m                                 Traceback (most recent call last)",
        "\u001b[1;32m<ipython-input-17-db28cac68e5d>\u001b[0m in \u001b[0;36m<module>\u001b[1;34m()\u001b[0m\n\u001b[1;32m----> 1\u001b[1;33m \u001b[1;32mfor\u001b[0m \u001b[0mfile_name\u001b[0m \u001b[1;32min\u001b[0m \u001b[0mraw_library\u001b[0m\u001b[1;33m:\u001b[0m\u001b[1;33m\u001b[0m\u001b[0m\n\u001b[0m\u001b[0;32m      2\u001b[0m     \u001b[1;32mfor\u001b[0m \u001b[0mfeature_name\u001b[0m \u001b[1;32min\u001b[0m \u001b[0mraw_library\u001b[0m\u001b[1;33m[\u001b[0m\u001b[0mfile_name\u001b[0m\u001b[1;33m]\u001b[0m\u001b[1;33m:\u001b[0m\u001b[1;33m\u001b[0m\u001b[0m\n\u001b[0;32m      3\u001b[0m         \u001b[1;32mprint\u001b[0m \u001b[0mfeature_name\u001b[0m\u001b[1;33m\u001b[0m\u001b[0m\n",
        "\u001b[1;31mNameError\u001b[0m: name 'raw_library' is not defined"
       ]
      }
     ],
     "prompt_number": 17
    },
    {
     "cell_type": "code",
     "collapsed": false,
     "input": [
      "# For testing, go to directory where the SAP files are...\n",
      "quickdir = \"C:\\\\Users\\\\mbar372\\\\Documents\\\\testing\\\\\"\n",
      "# READ FILES\n",
      "raw = open(quickdir + \"WAV_LIB_RAW.csv\")\n",
      "# TAKE THE DATA FILE AND REPLACE THE FOLLOWING WITH ','\n",
      "raw = raw.read()\n",
      "raw = raw.replace('(','')\n",
      "raw = raw.replace(')','')\n",
      "raw = raw.replace(' ','')\n",
      "raw = raw.replace('\\n',',')\n",
      "raw = raw.replace(';',',')\n",
      "# SPLIT BY ','\n",
      "raw = raw.split(',')\n",
      "\n",
      "# FORM A NEW ARRAY, CAPTURE ONLY THE DATA (Ints) IN NEW ARRAY\n",
      "new_array = []\n",
      "print len(raw)\n",
      "for n in range(len(raw)):\n",
      "    try:\n",
      "        x = int(raw[n])\n",
      "    except ValueError:\n",
      "        ()#print \"Found non-int at position ... \" + str(n)\n",
      "    else:\n",
      "        new_array[n:len(new_array)] = [x]\n",
      "\n",
      "print len(new_array)\n",
      "# Reshape into columns of song features.\n",
      "processed =  np.reshape(new_array,(len(new_array)/14, 14))\n",
      "\n",
      "# Print first 10 time points, all features.\n",
      "print processed[0,:]\n"
     ],
     "language": "python",
     "metadata": {},
     "outputs": [
      {
       "output_type": "stream",
       "stream": "stdout",
       "text": [
        "1187114\n",
        "1107568"
       ]
      },
      {
       "output_type": "stream",
       "stream": "stdout",
       "text": [
        "\n",
        "[419432780        30       -15       -23       668      1665       643\n",
        "        -9        42       -97       861         0         0         0]"
       ]
      },
      {
       "output_type": "stream",
       "stream": "stdout",
       "text": [
        "\n"
       ]
      }
     ],
     "prompt_number": 50
    },
    {
     "cell_type": "code",
     "collapsed": false,
     "input": [
      "# Extract the file CSV and alter.\n",
      "raw_files = open(quickdir + \"WAV_LIB_RAW_FILES.csv\")\n",
      "files = raw_files.read()\n",
      "\n",
      "files = files.replace('(','')\n",
      "files = files.replace(')','')\n",
      "files = files.replace(' ','')\n",
      "files = files.replace('\\n',',')\n",
      "files = files.replace(';',',')\n",
      "files = files.replace('\\'','')\n",
      "# SPLIT BY ','\n",
      "files = files.split(',')\n",
      "\n",
      "new_array = []\n",
      "\n",
      "for n in range(len(files)):\n",
      "    try:\n",
      "        x = int(files[n])\n",
      "        y = files[n+1]\n",
      "    except ValueError:\n",
      "        ()#print \"Found non-int at position ... \" + str(n)\n",
      "    else:\n",
      "        new_array[n:len(new_array)] = [x]\n",
      "        new_array[n:len(new_array)] = [y]\n",
      "\n",
      "file_array =  np.reshape(new_array,(len(new_array)/4, 4))[:,:2]\n",
      "\n",
      "new_array = []\n",
      "for x in range(len(file_array)):\n",
      "    #Obtain file ID and name for first file.\n",
      "    file_id = int(file_array[x,0])\n",
      "    file_name = file_array[x,1]\n",
      "    \n",
      "    # Return those data-points in the processed array which match the file ID.\n",
      "    new_data = processed[np.where(file_id == processed[:,1]),2:][0]\n",
      "    new_dict = {\"Amplitude\": new_data[:,0], # Db\n",
      "                \"Mean Amplitude Frequency\": new_data[:,1],  # Db\n",
      "                \"Pitch\": new_data[:,2],  # Hz\n",
      "                \"Mean_frequency\": new_data[:,3], # Hz\n",
      "                \"FM\": new_data[:,4] * 0.1, # Divide by 10 to turn into Degrees 0-90\n",
      "                \"AM\": new_data[:,5] * 0.01, # Divide by 100 to make 1/t\n",
      "                \"Goodness of pitch\": new_data[:,6], # nil units\n",
      "                \"Entropy\": new_data[:,7]*0.01, # Divide by 100 , no units\n",
      "                \"Peak frequency\": new_data[:,8], # Hz\n",
      "                \"DAS\": new_data[:,9], # ms\n",
      "                \"Continuity over time\": new_data[:,10]*100.0, # Times by 100 to make ms\n",
      "                \"Continuity over frequency\": new_data[:,11]*0.01,  # Divide by 100 to make Hz\n",
      "                }\n",
      "    new_array = np.append(new_array, new_dict)\n",
      "final_array = new_array\n",
      "\n",
      "file_dict = {file_array[n,1]: final_array[n] for n in range(len(file_array))}\n",
      "\n",
      "print file_dict.keys()\n",
      "\n",
      "print file_dict[\"motif1.wav\"].keys()\n",
      "\n",
      "lets_look_at = 'Pitch'\n",
      "\n",
      "plt.plot(file_dict[\"motif1.wav\"][lets_look_at])\n",
      "plt.plot(file_dict[\"motif2.wav\"][lets_look_at])\n",
      "plt.plot(file_dict[\"motif3.wav\"][lets_look_at])\n",
      "plt.plot(file_dict[\"motif4.wav\"][lets_look_at])\n",
      "plt.plot(file_dict[\"motif5.wav\"][lets_look_at])\n",
      "plt.plot(file_dict[\"motif6.wav\"][lets_look_at])\n",
      "plt.plot(file_dict[\"motif7.wav\"][lets_look_at])\n",
      "#plt.show()\n"
     ],
     "language": "python",
     "metadata": {},
     "outputs": [
      {
       "output_type": "stream",
       "stream": "stdout",
       "text": [
        "['songbout_noisex20.wav', 'songbout_noisex02.wav', 'noise.wav', 'motif1.wav', 'songbout_noisex01.wav', 'motif3.wav', 'songbout.wav', 'motif5.wav', 'motif4.wav', 'puretone.wav', 'ascendingtone.wav', 'songbout_noisex10.wav', 'motif7.wav', 'motif6.wav', 'motif2.wav']\n",
        "['Goodness of pitch', 'Mean Amplitude Frequency', 'Peak frequency', 'DAS', 'AM', 'Amplitude', 'Continuity over frequency', 'FM', 'Continuity over time', 'Entropy', 'Pitch', 'Mean_frequency']\n"
       ]
      },
      {
       "metadata": {},
       "output_type": "pyout",
       "prompt_number": 160,
       "text": [
        "[<matplotlib.lines.Line2D at 0x391a7da0>]"
       ]
      },
      {
       "metadata": {},
       "output_type": "display_data",
       "png": "[encoded data removed]",
       "text": [
        "<matplotlib.figure.Figure at 0x35327518>"
       ]
      }
     ],
     "prompt_number": 160
    },
    {
     "cell_type": "code",
     "collapsed": false,
     "input": [
      "print final_array[0]"
     ],
     "language": "python",
     "metadata": {},
     "outputs": [
      {
       "output_type": "stream",
       "stream": "stdout",
       "text": [
        "[\"'ascendingtone.wav'\"]\n"
       ]
      }
     ],
     "prompt_number": 59
    },
    {
     "cell_type": "code",
     "collapsed": false,
     "input": [
      "\n",
      "t = zip(processed)\n"
     ],
     "language": "python",
     "metadata": {},
     "outputs": [],
     "prompt_number": 123
    },
    {
     "cell_type": "code",
     "collapsed": false,
     "input": [
      "fs, rawwave = wav.read(working_directory + \"WAV_LIB\\\\songbout.wav\")\n",
      "\n",
      "wave1 = np.array(rawwave, dtype=np.float32)\n",
      "wave1 /= 2**15 # normalize -max_int16..max_int16 to -1..1\n",
      "\n",
      "wave2 = pcm2float(rawwave, dtype = 'float32')\n",
      "plt.plot(rawwave)\n",
      "plt.show()\n",
      "plt.plot(wave1)\n",
      "plt.plot(wave2)\n",
      "plt.show()\n",
      "\n",
      "print np.mean(np.subtract(wave1,wave2))\n",
      "\n",
      "rawwave1 = float2pcm(wave1, dtype = 'int16')\n",
      "rawwave2 = float2pcm(wave2, dtype = 'int16')\n",
      "\n",
      "plt.plot(rawwave1)\n",
      "plt.plot(rawwave2)\n",
      "plt.show()"
     ],
     "language": "python",
     "metadata": {},
     "outputs": [
      {
       "ename": "NameError",
       "evalue": "name 'wav' is not defined",
       "output_type": "pyerr",
       "traceback": [
        "\u001b[1;31m---------------------------------------------------------------------------\u001b[0m\n\u001b[1;31mNameError\u001b[0m                                 Traceback (most recent call last)",
        "\u001b[1;32m<ipython-input-20-5b368e053239>\u001b[0m in \u001b[0;36m<module>\u001b[1;34m()\u001b[0m\n\u001b[1;32m----> 1\u001b[1;33m \u001b[0mfs\u001b[0m\u001b[1;33m,\u001b[0m \u001b[0mrawwave\u001b[0m \u001b[1;33m=\u001b[0m \u001b[0mwav\u001b[0m\u001b[1;33m.\u001b[0m\u001b[0mread\u001b[0m\u001b[1;33m(\u001b[0m\u001b[0mworking_directory\u001b[0m \u001b[1;33m+\u001b[0m \u001b[1;34m\"WAV_LIB\\\\songbout.wav\"\u001b[0m\u001b[1;33m)\u001b[0m\u001b[1;33m\u001b[0m\u001b[0m\n\u001b[0m\u001b[0;32m      2\u001b[0m \u001b[1;33m\u001b[0m\u001b[0m\n\u001b[0;32m      3\u001b[0m \u001b[0mwave1\u001b[0m \u001b[1;33m=\u001b[0m \u001b[0mnp\u001b[0m\u001b[1;33m.\u001b[0m\u001b[0marray\u001b[0m\u001b[1;33m(\u001b[0m\u001b[0mrawwave\u001b[0m\u001b[1;33m,\u001b[0m \u001b[0mdtype\u001b[0m\u001b[1;33m=\u001b[0m\u001b[0mnp\u001b[0m\u001b[1;33m.\u001b[0m\u001b[0mfloat32\u001b[0m\u001b[1;33m)\u001b[0m\u001b[1;33m\u001b[0m\u001b[0m\n\u001b[0;32m      4\u001b[0m \u001b[0mwave1\u001b[0m \u001b[1;33m/=\u001b[0m \u001b[1;36m2\u001b[0m\u001b[1;33m**\u001b[0m\u001b[1;36m15\u001b[0m \u001b[1;31m# normalize -max_int16..max_int16 to -1..1\u001b[0m\u001b[1;33m\u001b[0m\u001b[0m\n\u001b[0;32m      5\u001b[0m \u001b[1;33m\u001b[0m\u001b[0m\n",
        "\u001b[1;31mNameError\u001b[0m: name 'wav' is not defined"
       ]
      }
     ],
     "prompt_number": 20
    },
    {
     "cell_type": "code",
     "collapsed": false,
     "input": [
      "\"\"\"\n",
      "Tester cell, this created the frequencies I needed for initial SPL testing.\n",
      "\"\"\"\n",
      "\n",
      "fs = 44100\n",
      "\n",
      "t = np.r_[0:int(fs*2):1] / float(fs)\n",
      "    \n",
      "    \n",
      "fnarray = [20,30,40,50,80,100,200,300,400,500,800,\n",
      "               1000,1500,2000,3000,4000,5000,6000,7000,\n",
      "               8000,9000,10000,11000,12000,14000,\n",
      "               16000,20000] #Array of frequencies to use.\n",
      "\n",
      "    \n",
      "for n in range(len(fnarray)):\n",
      "    fn = fnarray[n]\n",
      "    puretone = np.sin(2 * np.pi * t * fn)\n",
      "    puretone = float2pcm(puretone, dtype ='int16')\n",
      "    wav.write(working_directory + 'TEST_LIB\\\\sound_'+ str(fnarray[n]) + '.wav',fs, puretone)\n",
      "    \n",
      "print \"done!\""
     ],
     "language": "python",
     "metadata": {},
     "outputs": [
      {
       "output_type": "stream",
       "stream": "stdout",
       "text": [
        "done!\n"
       ]
      }
     ],
     "prompt_number": 23
    },
    {
     "cell_type": "code",
     "collapsed": false,
     "input": [
      "\"\"\"\n",
      "THIS CELL IS A TEST CELL, Used for playing and recording a sound once, \n",
      "without iterating through the whole program, \n",
      "good for Using the SPL Meter to check a sounds Db's at 1.0 on a speaker for example.\n",
      "\"\"\"\n",
      "\n",
      "print \"Loading... \"\n",
      "#Just grabs a .wav song file I have on hand. NOTE: From Priscilla's Data, Was recorded with a gain of 30.\n",
      "fs , wav_data_raw = wav.read(\"c:\\\\Users\\\\mbar372\\\\Documents\\\\testing\\\\hardware_tests\\\\TEST_LIB\\\\ascendingtone.wav\")\n",
      "\n",
      "wav_data = pcm2float(wav_data_raw, dtype ='float64')\n",
      "\n",
      "# Plot the data we are about to play\n",
      "quick_view_sound(wav_data)\n",
      "\n",
      "# Play the data, and record it too, return the recorded data\n",
      "new_data = pass_through_hardware(wav_data, window = 128)\n",
      "\n",
      "# Convert to PCM to save , but also make a copy of the float data.\n",
      "new_data_float = new_data\n",
      "new_data = float2pcm(new_data, dtype ='int16')\n",
      "wav.write(\"c:\\\\Users\\\\mbar372\\\\Documents\\\\testing\\\\savetest.wav\", 44100, new_data)\n",
      "\n",
      "print \"Finished playback!\"\n",
      "\n",
      "# Plot the recorded data, to see what it looks like.\n",
      "quick_view_sound(abs(new_data_float))\n",
      "\n",
      "#plt.psd(wav_data, Fs = 44100, NFFT = 512)\n",
      "#plt.psd(new_data_float, Fs = 44100, NFFT = 512)\n",
      "#plt.show()"
     ],
     "language": "python",
     "metadata": {},
     "outputs": []
    }
   ],
   "metadata": {}
  }
 ]
}