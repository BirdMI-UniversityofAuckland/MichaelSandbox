{
 "metadata": {
  "name": "",
  "signature": "sha256:590958e63218b4c6ee752792d0b30f6384942d39b1c17b1552444ea3422b2d4e"
 },
 "nbformat": 3,
 "nbformat_minor": 0,
 "worksheets": [
  {
   "cells": [
    {
     "cell_type": "code",
     "collapsed": false,
     "input": [
      "#Here we are simply importing necessary methods from the library of definitions created.\n",
      "%run 'Mibrary.ipynb' \n",
      "#We also wish to see our graphs within the notebook - not as a separate window instance.\n",
      "%matplotlib inline \n"
     ],
     "language": "python",
     "metadata": {},
     "outputs": [],
     "prompt_number": 28
    },
    {
     "cell_type": "markdown",
     "metadata": {},
     "source": [
      "Major statistics to get working:\n",
      "    - Wilxocon ranked sum Test.\n",
      "    - Kruskal Wallis Test.\n",
      "    - Kolgormov-Smirnov Test.\n",
      "    - Correlation using the Tau or Spearmans Co-efficient.   "
     ]
    },
    {
     "cell_type": "code",
     "collapsed": false,
     "input": [
      "greater_dir = \"C://Users//mbar372//Documents//FILTER_TEST_SAMPLES//raw_data//\"\n",
      "\n",
      "\"\"\"\n",
      "The data are now stored as such:\n",
      "\n",
      "data_array [ X ] [ Key ]\n",
      "where X is the sample number ( 0 - 7 ) i.e. 8 samples\n",
      "and Key stands for either 'sng' , 'e1', or 'e2'.\n",
      "Implicating a call for either the song, electrode 1, or electrode 2's\n",
      "data array over the entire length of the afore-choosen sample.\n",
      "\n",
      "Thus to access the 5th samples 2nd electrode we simple use:\n",
      "wanted_data = data_array[4]['e2']\n",
      "\"\"\"\n",
      "\n",
      "files = os.listdir(greater_dir )\n",
      "data_array = []\n",
      "for f in files:\n",
      "    datum = load_mat_file(greater_dir + f)\n",
      "    cleaned_datum = {'id': f,\n",
      "                     'sng': np.array(datum['sng'][:,0], dtype = 'float64') ,\n",
      "                     'e1': np.array(datum['e1'][0,:], dtype = 'float64'),\n",
      "                     'e2': np.array(datum['e2'][0,:], dtype = 'float64'),\n",
      "                     'ref': np.array(datum['ref'][0,:], dtype = 'float64')}\n",
      "    data_array.append(cleaned_datum)"
     ],
     "language": "python",
     "metadata": {},
     "outputs": [],
     "prompt_number": 29
    },
    {
     "cell_type": "code",
     "collapsed": false,
     "input": [
      "# Take the single motif , as an exemplar example,\n",
      "# then add various amounts of noise, we now have things to compare.\n",
      "data_orig = data_array[1]['sng']\n",
      "data_noise_10 = data_orig + np.random.normal(0, 10 , size= len(data_orig))\n",
      "data_noise_100 = data_orig + np.random.normal(0, 100 , size= len(data_orig))\n",
      "data_noise_500 = data_orig + np.random.normal(0, 500 , size= len(data_orig))\n",
      "data_noise_1000 = data_orig + np.random.normal(0, 1000 , size= len(data_orig))\n",
      "data_noise_10000 = data_orig + np.random.normal(0, 10000 , size= len(data_orig))\n",
      "\n"
     ],
     "language": "python",
     "metadata": {},
     "outputs": [],
     "prompt_number": 30
    },
    {
     "cell_type": "code",
     "collapsed": false,
     "input": [
      "print \"No noise\"\n",
      "rho, p_val = stats.spearmanr(data_orig, data_orig)\n",
      "print rho\n",
      "print p_val\n",
      "\n",
      "print \"Very low noise\"\n",
      "rho, p_val = stats.spearmanr(data_orig, data_noise_10)\n",
      "print rho\n",
      "print p_val\n",
      "\n",
      "print \"low noise\"\n",
      "rho, p_val = stats.spearmanr(data_orig, data_noise_100)\n",
      "print rho\n",
      "print p_val\n",
      "\n",
      "print \"Some noise\"\n",
      "rho, p_val = stats.spearmanr(data_orig, data_noise_500)\n",
      "print rho\n",
      "print p_val\n",
      "\n",
      "print \"Lots of noise\"\n",
      "rho, p_val = stats.spearmanr(data_orig, data_noise_1000)\n",
      "print rho\n",
      "print p_val\n",
      "\n",
      "print \"All noise\"\n",
      "rho, p_val = stats.spearmanr(data_orig, data_noise_10000)\n",
      "print rho\n",
      "print p_val"
     ],
     "language": "python",
     "metadata": {},
     "outputs": [
      {
       "output_type": "stream",
       "stream": "stdout",
       "text": [
        "No noise\n",
        "1.0\n",
        "0.0\n",
        "Very low noise\n",
        "0.999566317634\n",
        "0.0\n",
        "low noise\n",
        "0.963100236751\n",
        "0.0\n",
        "Some noise\n",
        "0.678198598129"
       ]
      },
      {
       "output_type": "stream",
       "stream": "stdout",
       "text": [
        "\n",
        "0.0\n",
        "Lots of noise\n",
        "0.474588268915\n",
        "0.0\n",
        "All noise\n",
        "0.0622529706449\n",
        "3.50773843268e-72\n"
       ]
      }
     ],
     "prompt_number": 41
    },
    {
     "cell_type": "code",
     "collapsed": false,
     "input": [
      "print \"No noise\"\n",
      "rho, p_val = stats.kendalltau(data_orig, data_orig)\n",
      "print rho\n",
      "print p_val\n",
      "\n",
      "print \"Very low noise\"\n",
      "rho, p_val = stats.kendalltau(data_orig, data_noise_10)\n",
      "print rho\n",
      "print p_val\n",
      "\n",
      "print \"low noise\"\n",
      "rho, p_val = stats.kendalltau(data_orig, data_noise_100)\n",
      "print rho\n",
      "print p_val\n",
      "\n",
      "print \"Some noise\"\n",
      "rho, p_val = stats.kendalltau(data_orig, data_noise_500)\n",
      "print rho\n",
      "print p_val\n",
      "\n",
      "print \"Lots of noise\"\n",
      "rho, p_val = stats.kendalltau(data_orig, data_noise_1000)\n",
      "print rho\n",
      "print p_val\n",
      "\n",
      "print \"All noise\"\n",
      "rho, p_val = stats.kendalltau(data_orig, data_noise_10000)\n",
      "print rho\n",
      "print p_val"
     ],
     "language": "python",
     "metadata": {},
     "outputs": [
      {
       "output_type": "stream",
       "stream": "stdout",
       "text": [
        "No noise\n",
        "1.0"
       ]
      },
      {
       "output_type": "stream",
       "stream": "stdout",
       "text": [
        "\n",
        "0.0\n",
        "Very low noise\n",
        "0.984374527568"
       ]
      },
      {
       "output_type": "stream",
       "stream": "stdout",
       "text": [
        "\n",
        "0.0\n",
        "low noise\n",
        "0.849368007208"
       ]
      },
      {
       "output_type": "stream",
       "stream": "stdout",
       "text": [
        "\n",
        "0.0\n",
        "Some noise\n",
        "0.504589199932"
       ]
      },
      {
       "output_type": "stream",
       "stream": "stdout",
       "text": [
        "\n",
        "0.0\n",
        "Lots of noise\n",
        "0.334163808929"
       ]
      },
      {
       "output_type": "stream",
       "stream": "stdout",
       "text": [
        "\n",
        "0.0\n",
        "All noise\n",
        "0.0415576433658"
       ]
      },
      {
       "output_type": "stream",
       "stream": "stdout",
       "text": [
        "\n",
        "3.11773799232e-72\n"
       ]
      }
     ],
     "prompt_number": 42
    },
    {
     "cell_type": "markdown",
     "metadata": {},
     "source": [
      "Both the spearmans and the Kendal Tau statistics are behaving as expected. It is surprising how well behaved the P value is - I suspect this will get larger if we compared two different noised versions of the song..."
     ]
    },
    {
     "cell_type": "code",
     "collapsed": false,
     "input": [
      "data_noise_100a = data_orig + np.random.normal(0, 8000 , size= len(data_orig))\n",
      "data_noise_100b = data_orig + np.random.normal(0, 8000 , size= len(data_orig))\n",
      "\n",
      "print \"same amount of noise\"\n",
      "rho, p_val = stats.spearmanr(data_noise_100a, data_noise_100b)\n",
      "print rho\n",
      "print p_val"
     ],
     "language": "python",
     "metadata": {},
     "outputs": [
      {
       "output_type": "stream",
       "stream": "stdout",
       "text": [
        "same amount of noise\n",
        "0.012261217849\n",
        "0.000406969194733\n"
       ]
      }
     ],
     "prompt_number": 131
    },
    {
     "cell_type": "code",
     "collapsed": false,
     "input": [],
     "language": "python",
     "metadata": {},
     "outputs": [],
     "prompt_number": 90
    },
    {
     "cell_type": "code",
     "collapsed": false,
     "input": [],
     "language": "python",
     "metadata": {},
     "outputs": [],
     "prompt_number": 58
    },
    {
     "cell_type": "code",
     "collapsed": false,
     "input": [],
     "language": "python",
     "metadata": {},
     "outputs": []
    }
   ],
   "metadata": {}
  }
 ]
}