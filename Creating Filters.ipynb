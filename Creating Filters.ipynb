{
 "metadata": {
  "name": "",
  "signature": "sha256:6fb3deb178b000b96af53bb8e45f6e67b6f4b8b41e57e4883d99f8c51c7a5c81"
 },
 "nbformat": 3,
 "nbformat_minor": 0,
 "worksheets": [
  {
   "cells": [
    {
     "cell_type": "code",
     "collapsed": false,
     "input": [
      "\"\"\"\n",
      "This script is for the testing and validation of filtering methods , \n",
      "3 filter methods will be investigated and their pythonic implementation validated.\n",
      "They will be primarily implemented using established numpy and scipy libraries.\n",
      "\n",
      "- Linear Filter\n",
      "- Savitzky-Golay Filter\n",
      "- Butter-worth Filter\n",
      "\n",
      "Each filter will then be validated on some test data, and then 10 examples of Theresa's AM-2\n",
      "Dataset will be subjected to all filters, and we may eyeball which ones are most appropraite.\n",
      "\n",
      "\"\"\"\n",
      "\n",
      "import numpy as np\n",
      "import matplotlib.pyplot as plt\n",
      "from scipy.io import wavfile as wav, loadmat as load_mat_file\n",
      "from scipy import signal, fftpack as fft\n",
      "\n",
      "import os\n",
      "import math\n",
      "%matplotlib inline "
     ],
     "language": "python",
     "metadata": {},
     "outputs": [],
     "prompt_number": 74
    },
    {
     "cell_type": "code",
     "collapsed": false,
     "input": [
      "\"\"\"\n",
      "We start by creating some useful test tones, \n",
      "a series of 1's, \n",
      "a linearly ascending frequency from 0 - 20,000 Frequencies,\n",
      "and random noise varying from -1 to 1.\n",
      "\n",
      "These test signals will prove useful to validate our filters.\n",
      "\"\"\"\n",
      "\n",
      "# Create some test data - a list of 1's.\n",
      "test_ones = np.ones(44100)\n",
      "\n",
      "# Create some test data that starts at 10 Hz and goes to 20,000 Hz over 1 second if sampled at 44100 Hz \n",
      "# The intensity is centred at 0, varies from -1 to 1\n",
      "time_series = np.linspace(0, 1, 44100)\n",
      "test_ascending = signal.chirp(time_series, f0=0, f1=20000.0, t1=1, method = 'linear')\n",
      "\n",
      "# Create Noise centred at 0, and varying from -1 to 1.\n",
      "test_noise = (np.random.rand(44100)*2)-1"
     ],
     "language": "python",
     "metadata": {},
     "outputs": [],
     "prompt_number": 107
    },
    {
     "cell_type": "code",
     "collapsed": false,
     "input": [
      "def linear_filt_rms(array, window_size):\n",
      "    \"\"\" Apply a Root Mean Squared averaging window across an array linearly\n",
      "    Inputs:\n",
      "        a , array-like, linear dataset\n",
      "        window_size , The size of window to convolve across the dataset\n",
      "    Returns:\n",
      "        The rolling windowed root mean sqaure of input a\n",
      "    \"\"\"\n",
      "    a2 = np.power(a,2)\n",
      "    window = np.ones(int(window_size))/float(window_size)\n",
      "    return np.sqrt(np.convolve(a2, window, 'valid'))\n",
      "\n",
      "def linear_filt(array, window_size):\n",
      "    \"\"\" Apply averaging window across an array linearly\n",
      "    Inputs:\n",
      "        a , array-like, linear dataset\n",
      "        window_size , The size of window to convolve across the dataset\n",
      "    Returns:\n",
      "        The rolling windowed root mean sqaure of input a\n",
      "    \"\"\"\n",
      "    window = np.ones(int(window_size))/float(window_size)\n",
      "    return np.convolve(array, window, 'valid')\n",
      "\n"
     ],
     "language": "python",
     "metadata": {},
     "outputs": [],
     "prompt_number": 108
    },
    {
     "cell_type": "code",
     "collapsed": false,
     "input": [
      "window_size = 44100 * 0.05 # Filter time-window size of 50 ms\n",
      "\n",
      "test_linear_filt = linear_filt(test_noise, window_size)\n",
      "test_savitzky_golay_filt = signal.savgol_filter(test_noise, window_size, 4)\n",
      "\n",
      "halfcycles_per_sample = 44100 / 2.0\n",
      "b, a = signal.butter(1, 75 / halfcycles_per_sample, btype= 'lowpass')\n",
      "test_butterworth_filt = signal.filtfilt(b, a, test_noise)\n",
      "\n",
      "#plt.plot(test_noise, c = 'b')\n",
      "\n",
      "plt.plot(test_butterworth_filt, c = 'b')\n",
      "plt.plot(test_linear_filt, c = 'r')\n",
      "plt.plot(test_savitzky_golay_filt , c = 'g')\n",
      "\n"
     ],
     "language": "python",
     "metadata": {},
     "outputs": [
      {
       "metadata": {},
       "output_type": "pyout",
       "prompt_number": 111,
       "text": [
        "[<matplotlib.lines.Line2D at 0x443914a8>]"
       ]
      },
      {
       "metadata": {},
       "output_type": "display_data",
       "png": "[encoded data removed]",
       "text": [
        "<matplotlib.figure.Figure at 0x44926b38>"
       ]
      }
     ],
     "prompt_number": 111
    },
    {
     "cell_type": "code",
     "collapsed": false,
     "input": [],
     "language": "python",
     "metadata": {},
     "outputs": []
    }
   ],
   "metadata": {}
  }
 ]
}